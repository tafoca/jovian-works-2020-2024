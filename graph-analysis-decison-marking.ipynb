{
 "cells": [
  {
   "cell_type": "code",
   "execution_count": 13,
   "id": "e3485750",
   "metadata": {},
   "outputs": [],
   "source": [
    "!pip install jovian --upgrade --quiet"
   ]
  },
  {
   "cell_type": "code",
   "execution_count": 14,
   "id": "b1b6753a",
   "metadata": {},
   "outputs": [],
   "source": [
    "import csv\n",
    "import matplotlib.pyplot as plt\n",
    "\n",
    "def lire_donnees_csv(chemin_fichier):\n",
    "    categories = []\n",
    "    valeurs = []\n",
    "    couleurs = []  # Ajout d'une liste pour stocker les couleurs\n",
    "    with open(chemin_fichier, 'r', newline='') as csvfile:\n",
    "        lecteur_csv = csv.reader(csvfile, delimiter=';')  # Assurez-vous que le délimiteur correspond à votre fichier\n",
    "        for ligne in lecteur_csv:\n",
    "            if float(ligne[1]) != 0.0:\n",
    "                categories.append(ligne[0])  # Supposons que les catégories sont dans la troisième colonne\n",
    "                valeurs.append(float(ligne[1]))  # Supposons que les valeurs sont dans la cinquième colonne\n",
    "                couleurs.append(ligne[2])  # Supposons que les codes de couleur sont dans la sixième colonne\n",
    "    return categories, valeurs, couleurs  # Modification pour renvoyer également les couleurs\n",
    "\n",
    "def generer_diagramme_circulaire(categories, valeurs, couleurs):\n",
    "    plt.figure(figsize=(8, 8))\n",
    "    plt.pie(valeurs, labels=categories, autopct='%1.1f%%', colors=couleurs)  # Utilisation des couleurs définies\n",
    "    plt.title('Camembert 1 Département de Génie Télécommmunication et Réseaux')\n",
    "    plt.show()\n",
    "    \n",
    "\n",
    "def generer_diagramme_circulaire2(categories, valeurs, couleurs):\n",
    "    plt.figure(figsize=(8, 8))\n",
    "    plt.pie(valeurs, labels=categories, autopct='%1.1f%%', colors=couleurs)  # Utilisation des couleurs définies\n",
    "    plt.title('Camembert 2 Département de Génie Télécommmunitaion et Réseaux')\n",
    "    plt.show()\n",
    "    \n",
    "\n",
    "def generer_diagramme_circulaire3(categories, valeurs, couleurs,titre):\n",
    "    plt.figure(figsize=(8, 8))\n",
    "    plt.pie(valeurs, labels=categories, autopct='%1.1f%%', colors=couleurs)  # Utilisation des couleurs définies\n",
    "    plt.title(titre)\n",
    "    plt.show()\n",
    "\n",
    "def generer_diagramme_circulaire4(categories, valeurs, couleurs, titre, taille_police):\n",
    "    plt.figure(figsize=(8, 8))\n",
    "    plt.pie(valeurs, labels=categories, autopct='%1.1f%%', colors=couleurs, textprops={'fontsize': taille_police})\n",
    "    plt.title(titre)\n",
    "    plt.show()\n",
    "\n",
    "\n"
   ]
  },
  {
   "cell_type": "code",
   "execution_count": 15,
   "id": "c9d88f81",
   "metadata": {},
   "outputs": [],
   "source": [
    "def lire_donnees_csv2(chemin_fichier):\n",
    "    categories = []\n",
    "    valeurs = []\n",
    "    couleurs = []  # Ajout d'une liste pour stocker les couleurs\n",
    "    with open(chemin_fichier, 'r', newline='') as csvfile:\n",
    "        lecteur_csv = csv.reader(csvfile, delimiter=';')  # Assurez-vous que le délimiteur correspond à votre fichier\n",
    "        for ligne in lecteur_csv:\n",
    "            if float(ligne[4]) != 0.0:\n",
    "                categories.append(ligne[3])  # Supposons que les catégories sont dans la troisième colonne\n",
    "                valeurs.append(float(ligne[4]))  # Supposons que les valeurs sont dans la cinquième colonne\n",
    "                couleurs.append(ligne[5])  # Supposons que les codes de couleur sont dans la sixième colonne\n",
    "    return categories, valeurs, couleurs  # Modification pour renvoyer également les couleurs\n"
   ]
  },
  {
   "cell_type": "code",
   "execution_count": 16,
   "id": "1904fe11",
   "metadata": {},
   "outputs": [],
   "source": [
    "import pandas as pd\n",
    "\n",
    "def process_csv(input_file, output_file, column_name, replacements, separator=';'):\n",
    "    # Lire le fichier CSV avec le séparateur spécifié\n",
    "    df = pd.read_csv(input_file, sep=separator)\n",
    "    print(df.head())\n",
    "    print(df.columns)\n",
    "    \n",
    "    # Vérifier si la colonne existe dans le dataframe\n",
    "    if column_name not in df.columns:\n",
    "        raise ValueError(f\"La colonne {column_name} n'existe pas dans le fichier CSV.\")\n",
    "    \n",
    "    # Remplacer les valeurs dans la colonne\n",
    "    df[column_name] = df[column_name].replace(replacements)\n",
    "    \n",
    "    # Compter les occurrences finales des différentes valeurs\n",
    "    value_counts = df[column_name].value_counts()\n",
    "    \n",
    "    # Convertir les résultats en dataframe\n",
    "    result_df = value_counts.reset_index()\n",
    "    result_df.columns = [column_name, 'Occurrences']\n",
    "    \n",
    "    # Sauvegarder le résultat dans un nouveau fichier CSV avec le même séparateur\n",
    "    result_df.to_csv(output_file, sep=separator, index=False)\n",
    "    \n",
    "    print(f\"Le fichier de sortie a été sauvegardé sous {output_file}\")\n",
    "\n",
    "\n",
    "\n",
    "# Dictionnaire de remplacement : {ancienne_valeur: nouvelle_valeur}\n",
    "replacements = {\n",
    "    'PI': 'I',\n",
    "    'PMI': 'MI',\n",
    "    'PTI': 'TI',\n",
    "    'PS': 'S',\n",
    "    'PMS': 'MS',\n",
    "    'PTS': 'TS',\n",
    "    # Ajouter d'autres remplacements si nécessaire\n",
    "}"
   ]
  },
  {
   "cell_type": "code",
   "execution_count": 17,
   "id": "6000d420",
   "metadata": {},
   "outputs": [],
   "source": [
    "import pandas as pd\n",
    "\n",
    "def convert_to_percentage(input_file, output_file, column_name, separator=';'):\n",
    "    # Lire le fichier CSV avec le séparateur spécifié\n",
    "    df = pd.read_csv(input_file, sep=separator)\n",
    "    \n",
    "    # Vérifier si la colonne existe dans le dataframe\n",
    "    if column_name not in df.columns:\n",
    "        raise ValueError(f\"La colonne {column_name} n'existe pas dans le fichier CSV.\")\n",
    "    \n",
    "    # Calculer la somme des valeurs de la colonne cible\n",
    "    column_sum = df[column_name].sum()\n",
    "    \n",
    "    # Convertir chaque valeur de la colonne en pourcentage de la somme\n",
    "    df[column_name] = (df[column_name] / column_sum) * 100\n",
    "    \n",
    "    # Sauvegarder le résultat dans un nouveau fichier CSV avec le même séparateur\n",
    "    df.to_csv(output_file, sep=separator, index=False)\n",
    "    \n",
    "    print(f\"Le fichier de sortie a été sauvegardé sous {output_file}\")\n"
   ]
  },
  {
   "cell_type": "code",
   "execution_count": 18,
   "id": "0d3b1d88",
   "metadata": {},
   "outputs": [],
   "source": [
    "# add new colunm base existing one \n",
    "\n",
    "def add_column_based_on_dict(input_file, output_file, base_column, new_column, replacements, separator=','):\n",
    "    # Lire le fichier CSV avec le séparateur spécifié\n",
    "    df = pd.read_csv(input_file, sep=separator)\n",
    "    \n",
    "    # Vérifier si la colonne de base existe dans le dataframe\n",
    "    if base_column not in df.columns:\n",
    "        raise ValueError(f\"La colonne {base_column} n'existe pas dans le fichier CSV.\")\n",
    "    \n",
    "    # Ajouter une nouvelle colonne en utilisant le dictionnaire de correspondance\n",
    "    df[new_column] = df[base_column].map(replacements)\n",
    "    \n",
    "    # Sauvegarder le DataFrame modifié dans un nouveau fichier CSV avec le même séparateur\n",
    "    df.to_csv(output_file, sep=separator, index=False)\n",
    "    \n",
    "    print(f\"Le fichier de sortie a été sauvegardé sous {output_file}\")\n",
    "\n",
    "\n",
    "# \t0.00\t\n",
    "# \t1.33\t#FF610F\n",
    "# MI\t1.33\t#E9941B\n",
    "# MS\t8.00\t#07A5CB\n",
    "# S\t57.33\t#1BB99A\n",
    "# TS\t32.00\t#106957\n",
    "\n",
    "# Dictionnaire de correspondance : {valeur_base: valeur_nouvelle}\n",
    "replacements2 = {\n",
    "    'TI': '#FF0009',\n",
    "    'I': '#FF610F',\n",
    "    'MI': '#E9941B',\n",
    "    'MS': '#07A5CB',\n",
    "    'S': '#1BB99A',\n",
    "    'TS': '#106957'\n",
    "    # Ajouter d'autres correspondances si nécessaire\n",
    "}\n"
   ]
  },
  {
   "cell_type": "code",
   "execution_count": 19,
   "id": "5661b3d8",
   "metadata": {},
   "outputs": [],
   "source": [
    "import pandas as pd\n",
    "\n",
    "def merge_and_aggregate(input_file, output_file, merge_column, values_to_merge, new_value, sum_column, separator=','):\n",
    "    # Lire le fichier CSV avec le séparateur spécifié\n",
    "    df = pd.read_csv(input_file, sep=separator)\n",
    "    \n",
    "    # Vérifier si les colonnes existent dans le dataframe\n",
    "    if merge_column not in df.columns or sum_column not in df.columns:\n",
    "        raise ValueError(f\"Les colonnes {merge_column} et/ou {sum_column} n'existent pas dans le fichier CSV.\")\n",
    "    \n",
    "    # Fusionner les valeurs spécifiées dans la colonne de fusion en une seule valeur\n",
    "    df[merge_column] = df[merge_column].replace(values_to_merge, new_value)\n",
    "    \n",
    "    # Agréger les valeurs de la colonne de somme par la colonne fusionnée\n",
    "    aggregated_df = df.groupby(merge_column, as_index=False)[sum_column].sum()\n",
    "    \n",
    "    # Sauvegarder le DataFrame agrégé dans un nouveau fichier CSV avec le même séparateur\n",
    "    aggregated_df.to_csv(output_file, sep=separator, index=False)\n",
    "    \n",
    "    print(f\"Le fichier de sortie a été sauvegardé sous {output_file}\")\n"
   ]
  },
  {
   "cell_type": "code",
   "execution_count": 20,
   "id": "c4a4929d",
   "metadata": {},
   "outputs": [
    {
     "name": "stdout",
     "output_type": "stream",
     "text": [
      "   NE NF\n",
      "0  12  S\n",
      "1  11  S\n",
      "2  11  I\n",
      "3  11  S\n",
      "4  12  S\n",
      "Index(['NE', 'NF'], dtype='object')\n",
      "Le fichier de sortie a été sauvegardé sous globalUIT1_output.csv\n",
      "Le fichier de sortie a été sauvegardé sous globalUIT1.csv\n"
     ]
    }
   ],
   "source": [
    "# Exemples d'utilisation 1 \n",
    "input_file = 'global UIT.csv'  # Nom du fichier CSV d'entrée\n",
    "output_file = 'globalUIT1_output.csv'  # Nom du fichier CSV de sortie\n",
    "column_name = 'NF'  # Nom de la colonne à traiter\n",
    "\n",
    "# Appel de la fonction avec le séparateur point-virgule\n",
    "process_csv(input_file, output_file, column_name, replacements, separator=';')\n",
    "\n",
    "# Exemples d'utilisation 2\n",
    "input_file = 'globalUIT1_output.csv'  # Nom du fichier CSV d'entrée\n",
    "output_file = 'globalUIT1.csv'  # Nom du fichier CSV de sortie\n",
    "column_name = 'Occurrences'  # Nom de la colonne à convertir en pourcentages\n",
    "\n",
    "# Appel de la fonction avec le séparateur par défaut (virgule)\n",
    "convert_to_percentage(input_file, output_file, column_name, separator=';')\n"
   ]
  },
  {
   "cell_type": "code",
   "execution_count": 21,
   "id": "0d9e1a9e",
   "metadata": {},
   "outputs": [
    {
     "name": "stdout",
     "output_type": "stream",
     "text": [
      "Le fichier de sortie a été sauvegardé sous globalUIT_1.csv\n"
     ]
    }
   ],
   "source": [
    "# Exemples d'utilisation 3\n",
    "input_file = 'globalUIT1.csv'  # Nom du fichier CSV d'entrée\n",
    "output_file = 'globalUIT_1.csv'  # Nom du fichier CSV de sortie\n",
    "base_column = 'NF'  # Nom de la colonne existante à utiliser pour la correspondance\n",
    "new_column = 'Couleurs'  # Nom de la nouvelle colonne à ajouter\n",
    "\n",
    "# Appel de la fonction avec le séparateur par défaut (virgule)\n",
    "add_column_based_on_dict(input_file, output_file, base_column, new_column, replacements2, separator=';')"
   ]
  },
  {
   "cell_type": "code",
   "execution_count": 23,
   "id": "3015e77b",
   "metadata": {},
   "outputs": [
    {
     "data": {
      "image/png": "[encoded data removed]",
      "text/plain": [
       "<Figure size 800x800 with 1 Axes>"
      ]
     },
     "metadata": {},
     "output_type": "display_data"
    }
   ],
   "source": [
    "# Chemin vers votre fichier CSV\n",
    "chemin_fichier_csv = 'globalUIT_1.csv'\n",
    "\n",
    "# Lecture des données à partir du fichier CSV\n",
    "categories, valeurs, couleurs = lire_donnees_csv(chemin_fichier_csv)\n",
    "\n",
    "# Génération du diagramme circulaire\n",
    "generer_diagramme_circulaire4(categories, valeurs, couleurs,'Camembert 1 de synthèse IUT-FV ',20)"
   ]
  },
  {
   "cell_type": "code",
   "execution_count": 24,
   "id": "39cd53f6",
   "metadata": {},
   "outputs": [],
   "source": [
    "#step 2"
   ]
  },
  {
   "cell_type": "code",
   "execution_count": 25,
   "id": "54f4f708",
   "metadata": {},
   "outputs": [
    {
     "name": "stdout",
     "output_type": "stream",
     "text": [
      "Le fichier de sortie a été sauvegardé sous globalUIT_2.csv\n",
      "Le fichier de sortie a été sauvegardé sous globalUIT_2.csv\n"
     ]
    }
   ],
   "source": [
    "# Exemples d'utilisation 5-1\n",
    "input_file = 'globalUIT_1.csv'  # Nom du fichier CSV d'entrée\n",
    "output_file = 'globalUIT_2.csv'  # Nom du fichier CSV de sortie\n",
    "merge_column = 'Critere'  # Nom de la colonne dont les valeurs doivent être fusionnées ;;couleurs\n",
    "\n",
    "values_to_merge = ['TS', 'S', 'MS']  # Valeurs à fusionner\n",
    "new_value = 'SATISF'  # Nouvelle valeur après la fusion\n",
    "sum_column = 'valeur'  # Nom de la colonne à agréger par somme\n",
    "\n",
    "# Appel de la fonction avec le séparateur par défaut (virgule)\n",
    "merge_and_aggregate(input_file, output_file, merge_column, values_to_merge, new_value, sum_column, separator=';')\n",
    "\n",
    "input_file = 'globalUIT_2.csv'  # Nom du fichier CSV de sortie\n",
    "merge_column = 'Critere'  # Nom de la colonne dont les valeurs doivent être fusionnées ;;couleurs\n",
    "\n",
    "values_to_merge = ['TI', 'I', 'MI']  # Valeurs à fusionner\n",
    "new_value = 'INSAT'  # Nouvelle valeur après la fusion\n",
    "sum_column = 'valeur'  # Nom de la colonne à agréger par somme\n",
    "\n",
    "# Appel de la fonction avec le séparateur par défaut (virgule)\n",
    "merge_and_aggregate(input_file, output_file, merge_column, values_to_merge, new_value, sum_column, separator=';')"
   ]
  },
  {
   "cell_type": "code",
   "execution_count": 26,
   "id": "539d556d",
   "metadata": {},
   "outputs": [
    {
     "data": {
      "image/png": "[encoded data removed]",
      "text/plain": [
       "<Figure size 800x800 with 1 Axes>"
      ]
     },
     "metadata": {},
     "output_type": "display_data"
    }
   ],
   "source": [
    "# Chemin vers votre fichier CSV 5-2\n",
    "chemin_fichier_csv = 'globalUIT_2.csv'\n",
    "\n",
    "# Lecture des données à partir du fichier CSV\n",
    "categories, valeurs, couleurs = lire_donnees_csv(chemin_fichier_csv)\n",
    "\n",
    "# Génération du diagramme circulaire\n",
    "generer_diagramme_circulaire4(categories, valeurs, couleurs,'Camembert 2 de synthèse IUT-FV',20)"
   ]
  },
  {
   "cell_type": "code",
   "execution_count": 27,
   "id": "f9bc529d",
   "metadata": {},
   "outputs": [],
   "source": [
    "# global UIT.csv"
   ]
  },
  {
   "cell_type": "code",
   "execution_count": 28,
   "id": "fc1a1801",
   "metadata": {},
   "outputs": [
    {
     "name": "stdout",
     "output_type": "stream",
     "text": [
      "Requirement already satisfied: python-docx in /home/fotso/anaconda3/lib/python3.10/site-packages (1.1.2)\r\n",
      "Requirement already satisfied: lxml>=3.1.0 in /home/fotso/anaconda3/lib/python3.10/site-packages (from python-docx) (4.9.1)\r\n",
      "Requirement already satisfied: typing-extensions>=4.9.0 in /home/fotso/anaconda3/lib/python3.10/site-packages (from python-docx) (4.12.1)\r\n"
     ]
    }
   ],
   "source": [
    "!pip install python-docx"
   ]
  },
  {
   "cell_type": "code",
   "execution_count": 29,
   "id": "77cce5db",
   "metadata": {},
   "outputs": [
    {
     "name": "stdout",
     "output_type": "stream",
     "text": [
      "Document créé et sauvegardé sous Camenbert_synthese_1.docx\n"
     ]
    }
   ],
   "source": [
    "from docx import Document\n",
    "from docx.shared import Inches\n",
    "import os\n",
    "\n",
    "def create_image_grid_docx(image_dir, output_file, column_count=1):\n",
    "    # Créer un nouveau document Word\n",
    "    doc = Document()\n",
    "    \n",
    "    # Obtenir la liste des fichiers d'images dans le répertoire\n",
    "    images = [f for f in os.listdir(image_dir) if f.lower().endswith(('.png', '.jpg', '.jpeg', '.gif', '.bmp'))]\n",
    "    \n",
    "    # Ajouter un titre au document (optionnel)\n",
    "    doc.add_heading('Grille d\\'images', level=1)\n",
    "    \n",
    "    # Ajouter un tableau au document\n",
    "    table = doc.add_table(rows=0, cols=column_count)\n",
    "    \n",
    "    # Ajouter les images au tableau en deux colonnes\n",
    "    for i, image in enumerate(images):\n",
    "        if i % column_count == 0:\n",
    "            # Ajouter une nouvelle ligne au tableau\n",
    "            row_cells = table.add_row().cells\n",
    "        # Ajouter l'image à la cellule correspondante\n",
    "        cell = row_cells[i % column_count]\n",
    "        paragraph = cell.paragraphs[0]\n",
    "        run = paragraph.add_run()\n",
    "        image_path = os.path.join(image_dir, image)\n",
    "        run.add_picture(image_path, width=Inches(5))  # Ajustez la largeur selon vos besoins\n",
    "    \n",
    "    # Sauvegarder le document\n",
    "    doc.save(output_file)\n",
    "    print(f\"Document créé et sauvegardé sous {output_file}\")\n",
    "\n",
    "# Exemples d'utilisation\n",
    "image_dir = './IMAGES'  # Remplacez par le chemin vers votre répertoire d'images\n",
    "output_file = 'Camenbert_synthese_1.docx'  # Nom du fichier de sortie\n",
    "\n",
    "create_image_grid_docx(image_dir, output_file)\n"
   ]
  },
  {
   "cell_type": "code",
   "execution_count": 30,
   "id": "f1305a98",
   "metadata": {},
   "outputs": [
    {
     "name": "stdout",
     "output_type": "stream",
     "text": [
      "Document créé et sauvegardé sous Camenbert_synthese_2.docx\n"
     ]
    }
   ],
   "source": [
    "from docx import Document\n",
    "from docx.shared import Inches\n",
    "import os\n",
    "\n",
    "def create_image_grid_docx(image_dir, output_file):\n",
    "    # Créer un nouveau document Word\n",
    "    doc = Document()\n",
    "    files = os.listdir(image_dir)\n",
    "    # Obtenir la liste des fichiers d'images dans le répertoire\n",
    "    images = sorted([f for f in files if f.lower().endswith(('.png', '.jpg', '.jpeg', '.gif', '.bmp'))])\n",
    "\n",
    "    # Séparer les images en sous-listes de deux images chacune\n",
    "    image_pairs = [images[i:i+2] for i in range(0, len(images), 2)]\n",
    "\n",
    "    # Ajouter les paires d'images sur chaque page\n",
    "    for pair in image_pairs:\n",
    "        # Ajouter une nouvelle page au document\n",
    "        doc.add_page_break()\n",
    "        \n",
    "        # Centrer chaque page\n",
    "        for paragraph in doc.paragraphs:\n",
    "            paragraph.alignment = 1\n",
    "        \n",
    "        # Ajouter les images sur deux lignes centrées\n",
    "        for image in pair:\n",
    "            paragraph = doc.add_paragraph()\n",
    "            paragraph.alignment = 1\n",
    "            run = paragraph.add_run()\n",
    "            image_path = os.path.join(image_dir, image)\n",
    "            run.add_picture(image_path, width=Inches(5))  # Ajustez la largeur selon vos besoins\n",
    "\n",
    "    # Sauvegarder le document\n",
    "    doc.save(output_file)\n",
    "    print(f\"Document créé et sauvegardé sous {output_file}\")\n",
    "\n",
    "# Exemples d'utilisation\n",
    "image_dir = './IMAGES'  # Remplacez par le chemin vers votre répertoire d'images\n",
    "output_file = 'Camenbert_synthese_2.docx'  # Nom du fichier de sortie\n",
    "\n",
    "create_image_grid_docx(image_dir, output_file)"
   ]
  },
  {
   "cell_type": "code",
   "execution_count": null,
   "id": "be2df884",
   "metadata": {},
   "outputs": [
    {
     "data": {
      "application/javascript": [
       "window.require && require([\"base/js/namespace\"],function(Jupyter){Jupyter.notebook.save_checkpoint()})"
      ],
      "text/plain": [
       "<IPython.core.display.Javascript object>"
      ]
     },
     "metadata": {},
     "output_type": "display_data"
    }
   ],
   "source": [
    "jovian.commit(project=\"graph-analysis-decison-marking\")"
   ]
  },
  {
   "cell_type": "code",
   "execution_count": null,
   "id": "775de3a9",
   "metadata": {},
   "outputs": [],
   "source": []
  }
 ],
 "metadata": {
  "kernelspec": {
   "display_name": "Python 3 (ipykernel)",
   "language": "python",
   "name": "python3"
  },
  "language_info": {
   "codemirror_mode": {
    "name": "ipython",
    "version": 3
   },
   "file_extension": ".py",
   "mimetype": "text/x-python",
   "name": "python",
   "nbconvert_exporter": "python",
   "pygments_lexer": "ipython3",
   "version": "3.10.9"
  }
 },
 "nbformat": 4,
 "nbformat_minor": 5
}
