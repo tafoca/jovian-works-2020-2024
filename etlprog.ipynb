{
 "cells": [
  {
   "cell_type": "code",
   "execution_count": 1,
   "id": "fbf2a5dc",
   "metadata": {},
   "outputs": [],
   "source": [
    "#easy etl program using"
   ]
  },
  {
   "cell_type": "code",
   "execution_count": 2,
   "id": "0c77dec9",
   "metadata": {},
   "outputs": [],
   "source": [
    "import petl as etl\n",
    "import psycopg2 as pg\n",
    "import sys\n",
    "from sqlalchemy import *"
   ]
  },
  {
   "cell_type": "code",
   "execution_count": 3,
   "id": "fe7d7559",
   "metadata": {},
   "outputs": [],
   "source": [
    "# Connect to your postgres DB\n",
    "conn = pg.connect(host=\"localhost\", database=\"qtsurvey_db_FMSP\", user=\"postgres\", password=\"postgres\")"
   ]
  },
  {
   "cell_type": "code",
   "execution_count": 4,
   "id": "0247b924",
   "metadata": {},
   "outputs": [],
   "source": [
    "\n",
    "# Open a cursor to perform database operations\n",
    "cur = conn.cursor()"
   ]
  },
  {
   "cell_type": "code",
   "execution_count": 5,
   "id": "3c40a29d",
   "metadata": {},
   "outputs": [],
   "source": [
    "# Execute a query\n",
    "cur.execute(\"SELECT * FROM question\")"
   ]
  },
  {
   "cell_type": "code",
   "execution_count": 6,
   "id": "9d7a52e8",
   "metadata": {},
   "outputs": [],
   "source": [
    "\n",
    "# Retrieve query results\n",
    "records = cur.fetchall()"
   ]
  },
  {
   "cell_type": "code",
   "execution_count": 7,
   "id": "4968c0a1",
   "metadata": {},
   "outputs": [
    {
     "data": {
      "text/plain": [
       "[(3, 'Présentation claire et précise des objectifs du cours', 1, False, 1),\n",
       " (4, 'Disponibilité du plan du cours', 1, False, 2),\n",
       " (9, \"Présentation des modalités d'évaluation\", 1, False, 3),\n",
       " (20, \"Indication d'une bibliographie sélective\", 1, False, 4),\n",
       " (5, 'Respect des horaires et ponctualité', 2, False, 5),\n",
       " (7, 'Conformité des évaluations aux modalités annoncées', 3, False, 13),\n",
       " (21, 'Maîtrise du sujet', 2, False, 7),\n",
       " (25, 'Atteinte des objectifs de cours', 2, False, 11),\n",
       " (27, 'Disponibilité du corrigé des contrôles continus', 3, False, 15),\n",
       " (28, 'Appréciation générale à la fin des cours', 3, True, 16),\n",
       " (6, \"Création d'une atmosphère favorable\", 2, False, 6),\n",
       " (8, 'Niveau de couverture du contenu du cours', 3, False, 14),\n",
       " (22, \"Niveau d'implication des travaux individuels\", 2, False, 8),\n",
       " (24, 'Utilisation des outils pédagogiques', 2, False, 10),\n",
       " (26,\n",
       "  \"Possibilité d'échange avec l'enseignant en dehors des cours\",\n",
       "  2,\n",
       "  False,\n",
       "  12),\n",
       " (23, 'Respect du planning et des rythmes des cours', 2, False, 9),\n",
       " (29, 'Présentation claire et précise des objectifs du cours', 4, False, 1),\n",
       " (30, 'Disponibilité du plan du cours', 4, False, 2),\n",
       " (31, \"Présentation des modalités d'évaluation\", 4, False, 3),\n",
       " (32, \"Indication d'une bibliographie sélective\", 4, False, 4),\n",
       " (33, 'Respect des horaires et ponctualité', 5, False, 5),\n",
       " (34, \"Création d'une atmosphère favorable\", 5, False, 6),\n",
       " (35, 'Respect du planning et des rythmes des cours', 5, False, 7),\n",
       " (36, 'Utilisation des outils pédagogiques', 5, False, 8),\n",
       " (37,\n",
       "  \"Possibilité d'échange avec l'enseignant en dehors des cours\",\n",
       "  5,\n",
       "  False,\n",
       "  9),\n",
       " (38, 'Conformité des évaluations aux modalités annoncées', 6, False, 10),\n",
       " (39, 'Niveau de couverture du contenu du cours', 6, False, 11),\n",
       " (40, 'Disponibilité du corrigé des contrôles continus', 6, False, 12),\n",
       " (41, 'Appréciation générale à la fin des cours', 6, True, 13)]"
      ]
     },
     "execution_count": 7,
     "metadata": {},
     "output_type": "execute_result"
    }
   ],
   "source": [
    "records"
   ]
  },
  {
   "cell_type": "code",
   "execution_count": 8,
   "id": "0287eb5b",
   "metadata": {},
   "outputs": [],
   "source": [
    "\n",
    "#driving_distance module\n",
    "#note the lack of trailing semi-colon in the query string, as per the Postgres documentation\n",
    "query = \"\"\"\n",
    "    SELECT * FROM question order by 1\n",
    "\"\"\"\n",
    "outputquery = \"COPY ({0}) TO STDOUT WITH CSV HEADER\".format(query)\n",
    "\n",
    "with open('question.csv', 'w') as f:\n",
    "    cur.copy_expert(outputquery, f)\n",
    "\n",
    "conn.close()"
   ]
  },
  {
   "cell_type": "code",
   "execution_count": null,
   "id": "67e57d72",
   "metadata": {},
   "outputs": [],
   "source": []
  },
  {
   "cell_type": "code",
   "execution_count": null,
   "id": "6a0767d8",
   "metadata": {},
   "outputs": [],
   "source": []
  }
 ],
 "metadata": {
  "kernelspec": {
   "display_name": "Python 3 (ipykernel)",
   "language": "python",
   "name": "python3"
  },
  "language_info": {
   "codemirror_mode": {
    "name": "ipython",
    "version": 3
   },
   "file_extension": ".py",
   "mimetype": "text/x-python",
   "name": "python",
   "nbconvert_exporter": "python",
   "pygments_lexer": "ipython3",
   "version": "3.8.10"
  }
 },
 "nbformat": 4,
 "nbformat_minor": 5
}
