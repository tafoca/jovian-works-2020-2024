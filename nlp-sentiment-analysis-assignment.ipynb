{
 "cells": [
  {
   "cell_type": "markdown",
   "metadata": {
    "id": "8Gf0u3uzd7oM"
   },
   "source": [
    "# Assignment - Sentiment Analysis of Movie Reviews\n",
    "\n",
    "![](https://i.imgur.com/6Wfmf2S.png)\n",
    "\n",
    "> **Problem Statement**: Apply the TF-IDF technique to train ML models for sentiment analysis using data from the \"[Sentiment Analysis on Movie Reviews](https://www.kaggle.com/c/sentiment-analysis-on-movie-reviews)\" Kaggle competition.\n",
    "\n",
    "\n",
    "Outline:\n",
    "\n",
    "1. Download and Explore Dataset\n",
    "2. Implement the TF-IDF Technique\n",
    "3. Train baseline model & submit to Kaggle\n",
    "4. Train & finetune different ML models\n",
    "3. Document & submit your notebook\n",
    "\n",
    "\n",
    "Dataset: https://www.kaggle.com/c/sentiment-analysis-on-movie-reviews\n"
   ]
  },
  {
   "cell_type": "markdown",
   "metadata": {
    "id": "hw0pygCOefi9"
   },
   "source": [
    "## Download and Explore the Data\n",
    "\n",
    "Outline:\n",
    "\n",
    "1. Download Dataset from Kaggle\n",
    "2. Explore and visualize data"
   ]
  },
  {
   "cell_type": "markdown",
   "metadata": {
    "id": "KPS8buEdtllZ"
   },
   "source": [
    "### Download Dataset from Kaggle\n",
    "\n",
    "- Read the \"Description\", \"Evaluation\" and \"Data\" sections on the Kaggle competition page carefully\n",
    "- Make sure to download the `kaggle.json` file from your [Kaggle account](https://kaggle.com/me/account) and upload it on Colab"
   ]
  },
  {
   "cell_type": "code",
   "execution_count": 1,
   "metadata": {
    "executionInfo": {
     "elapsed": 557,
     "status": "ok",
     "timestamp": 1669336992226,
     "user": {
      "displayName": "Laurent Cabrel Tabueu Fotso",
      "userId": "03330808069489833311"
     },
     "user_tz": -60
    },
    "id": "FnaGd60Zuxgg"
   },
   "outputs": [],
   "source": [
    "import os"
   ]
  },
  {
   "cell_type": "code",
   "execution_count": 2,
   "metadata": {
    "colab": {
     "base_uri": "https://localhost:8080/"
    },
    "executionInfo": {
     "elapsed": 599,
     "status": "ok",
     "timestamp": 1669337011024,
     "user": {
      "displayName": "Laurent Cabrel Tabueu Fotso",
      "userId": "03330808069489833311"
     },
     "user_tz": -60
    },
    "id": "lcRhDakmuxEm",
    "outputId": "8acc5daf-be35-4f58-e1ab-9422afd9fff9"
   },
   "outputs": [
    {
     "name": "stdout",
     "output_type": "stream",
     "text": [
      "/content\n"
     ]
    }
   ],
   "source": [
    "!pwd"
   ]
  },
  {
   "cell_type": "code",
   "execution_count": 3,
   "metadata": {
    "executionInfo": {
     "elapsed": 623,
     "status": "ok",
     "timestamp": 1669337014446,
     "user": {
      "displayName": "Laurent Cabrel Tabueu Fotso",
      "userId": "03330808069489833311"
     },
     "user_tz": -60
    },
    "id": "MdQqvmtvend_"
   },
   "outputs": [],
   "source": [
    "os.environ['KAGGLE_CONFIG_DIR'] = '/content'"
   ]
  },
  {
   "cell_type": "code",
   "execution_count": 4,
   "metadata": {
    "colab": {
     "base_uri": "https://localhost:8080/"
    },
    "executionInfo": {
     "elapsed": 1750,
     "status": "ok",
     "timestamp": 1669337016612,
     "user": {
      "displayName": "Laurent Cabrel Tabueu Fotso",
      "userId": "03330808069489833311"
     },
     "user_tz": -60
    },
    "id": "nEFLvfunenbr",
    "outputId": "dbaa8bce-f94d-4d1a-8311-94c1dfa9277f"
   },
   "outputs": [
    {
     "name": "stdout",
     "output_type": "stream",
     "text": [
      "Warning: Your Kaggle API key is readable by other users on this system! To fix this, you can run 'chmod 600 /content/kaggle.json'\n",
      "Downloading sentiment-analysis-on-movie-reviews.zip to /content\n",
      "  0% 0.00/1.90M [00:00<?, ?B/s]\n",
      "100% 1.90M/1.90M [00:00<00:00, 126MB/s]\n"
     ]
    }
   ],
   "source": [
    "!kaggle competitions download -c sentiment-analysis-on-movie-reviews"
   ]
  },
  {
   "cell_type": "code",
   "execution_count": 5,
   "metadata": {
    "colab": {
     "base_uri": "https://localhost:8080/"
    },
    "executionInfo": {
     "elapsed": 628,
     "status": "ok",
     "timestamp": 1669337019984,
     "user": {
      "displayName": "Laurent Cabrel Tabueu Fotso",
      "userId": "03330808069489833311"
     },
     "user_tz": -60
    },
    "id": "QOq7CBqftvz-",
    "outputId": "e1f78236-9134-4337-afa4-36aacf6eeae1"
   },
   "outputs": [
    {
     "name": "stdout",
     "output_type": "stream",
     "text": [
      "Archive:  sentiment-analysis-on-movie-reviews.zip\n",
      "  inflating: data/sampleSubmission.csv  \n",
      "  inflating: data/test.tsv.zip       \n",
      "  inflating: data/train.tsv.zip      \n"
     ]
    }
   ],
   "source": [
    "!unzip sentiment-analysis-on-movie-reviews.zip -d data"
   ]
  },
  {
   "cell_type": "code",
   "execution_count": 6,
   "metadata": {
    "executionInfo": {
     "elapsed": 508,
     "status": "ok",
     "timestamp": 1669337022504,
     "user": {
      "displayName": "Laurent Cabrel Tabueu Fotso",
      "userId": "03330808069489833311"
     },
     "user_tz": -60
    },
    "id": "7xXjMe6fcGgU"
   },
   "outputs": [],
   "source": [
    "train_fname = './data/train.tsv.zip'\n",
    "test_fname = './data/test.tsv.zip'\n",
    "sub_fname = './data/sampleSubmission.csv'"
   ]
  },
  {
   "cell_type": "markdown",
   "metadata": {
    "id": "CVbujLQ9tpAb"
   },
   "source": [
    "### Explore and Visualize Data\n",
    "\n",
    "* Load the train, test, and submission files using Pandas\n",
    "* Explore rows, columns, sample values etc.\n",
    "* Visualize distribution of target columns"
   ]
  },
  {
   "cell_type": "code",
   "execution_count": 7,
   "metadata": {
    "executionInfo": {
     "elapsed": 430,
     "status": "ok",
     "timestamp": 1669337026841,
     "user": {
      "displayName": "Laurent Cabrel Tabueu Fotso",
      "userId": "03330808069489833311"
     },
     "user_tz": -60
    },
    "id": "H2JenReXw7SI"
   },
   "outputs": [],
   "source": [
    "import pandas as pd"
   ]
  },
  {
   "cell_type": "code",
   "execution_count": 8,
   "metadata": {
    "executionInfo": {
     "elapsed": 657,
     "status": "ok",
     "timestamp": 1669337029110,
     "user": {
      "displayName": "Laurent Cabrel Tabueu Fotso",
      "userId": "03330808069489833311"
     },
     "user_tz": -60
    },
    "id": "oPwLSKsrvdTa"
   },
   "outputs": [],
   "source": [
    "raw_df = pd.read_csv(train_fname, sep='\\t')"
   ]
  },
  {
   "cell_type": "code",
   "execution_count": 9,
   "metadata": {
    "colab": {
     "base_uri": "https://localhost:8080/",
     "height": 424
    },
    "executionInfo": {
     "elapsed": 14,
     "status": "ok",
     "timestamp": 1669337029698,
     "user": {
      "displayName": "Laurent Cabrel Tabueu Fotso",
      "userId": "03330808069489833311"
     },
     "user_tz": -60
    },
    "id": "4-cvRH3HenYx",
    "outputId": "17ffc330-42f2-4238-fd2d-b002d5afd99e"
   },
   "outputs": [
    {
     "data": {
      "text/html": [
       "\n",
       "  <div id=\"df-54fde7f6-bda5-49cd-8a3b-2dbf63694890\">\n",
       "    <div class=\"colab-df-container\">\n",
       "      <div>\n",
       "<style scoped>\n",
       "    .dataframe tbody tr th:only-of-type {\n",
       "        vertical-align: middle;\n",
       "    }\n",
       "\n",
       "    .dataframe tbody tr th {\n",
       "        vertical-align: top;\n",
       "    }\n",
       "\n",
       "    .dataframe thead th {\n",
       "        text-align: right;\n",
       "    }\n",
       "</style>\n",
       "<table border=\"1\" class=\"dataframe\">\n",
       "  <thead>\n",
       "    <tr style=\"text-align: right;\">\n",
       "      <th></th>\n",
       "      <th>PhraseId</th>\n",
       "      <th>SentenceId</th>\n",
       "      <th>Phrase</th>\n",
       "      <th>Sentiment</th>\n",
       "    </tr>\n",
       "  </thead>\n",
       "  <tbody>\n",
       "    <tr>\n",
       "      <th>0</th>\n",
       "      <td>1</td>\n",
       "      <td>1</td>\n",
       "      <td>A series of escapades demonstrating the adage ...</td>\n",
       "      <td>1</td>\n",
       "    </tr>\n",
       "    <tr>\n",
       "      <th>1</th>\n",
       "      <td>2</td>\n",
       "      <td>1</td>\n",
       "      <td>A series of escapades demonstrating the adage ...</td>\n",
       "      <td>2</td>\n",
       "    </tr>\n",
       "    <tr>\n",
       "      <th>2</th>\n",
       "      <td>3</td>\n",
       "      <td>1</td>\n",
       "      <td>A series</td>\n",
       "      <td>2</td>\n",
       "    </tr>\n",
       "    <tr>\n",
       "      <th>3</th>\n",
       "      <td>4</td>\n",
       "      <td>1</td>\n",
       "      <td>A</td>\n",
       "      <td>2</td>\n",
       "    </tr>\n",
       "    <tr>\n",
       "      <th>4</th>\n",
       "      <td>5</td>\n",
       "      <td>1</td>\n",
       "      <td>series</td>\n",
       "      <td>2</td>\n",
       "    </tr>\n",
       "    <tr>\n",
       "      <th>...</th>\n",
       "      <td>...</td>\n",
       "      <td>...</td>\n",
       "      <td>...</td>\n",
       "      <td>...</td>\n",
       "    </tr>\n",
       "    <tr>\n",
       "      <th>156055</th>\n",
       "      <td>156056</td>\n",
       "      <td>8544</td>\n",
       "      <td>Hearst 's</td>\n",
       "      <td>2</td>\n",
       "    </tr>\n",
       "    <tr>\n",
       "      <th>156056</th>\n",
       "      <td>156057</td>\n",
       "      <td>8544</td>\n",
       "      <td>forced avuncular chortles</td>\n",
       "      <td>1</td>\n",
       "    </tr>\n",
       "    <tr>\n",
       "      <th>156057</th>\n",
       "      <td>156058</td>\n",
       "      <td>8544</td>\n",
       "      <td>avuncular chortles</td>\n",
       "      <td>3</td>\n",
       "    </tr>\n",
       "    <tr>\n",
       "      <th>156058</th>\n",
       "      <td>156059</td>\n",
       "      <td>8544</td>\n",
       "      <td>avuncular</td>\n",
       "      <td>2</td>\n",
       "    </tr>\n",
       "    <tr>\n",
       "      <th>156059</th>\n",
       "      <td>156060</td>\n",
       "      <td>8544</td>\n",
       "      <td>chortles</td>\n",
       "      <td>2</td>\n",
       "    </tr>\n",
       "  </tbody>\n",
       "</table>\n",
       "<p>156060 rows × 4 columns</p>\n",
       "</div>\n",
       "      <button class=\"colab-df-convert\" onclick=\"convertToInteractive('df-54fde7f6-bda5-49cd-8a3b-2dbf63694890')\"\n",
       "              title=\"Convert this dataframe to an interactive table.\"\n",
       "              style=\"display:none;\">\n",
       "        \n",
       "  <svg xmlns=\"http://www.w3.org/2000/svg\" height=\"24px\"viewBox=\"0 0 24 24\"\n",
       "       width=\"24px\">\n",
       "    <path d=\"M0 0h24v24H0V0z\" fill=\"none\"/>\n",
       "    <path d=\"M18.56 5.44l.94 2.06.94-2.06 2.06-.94-2.06-.94-.94-2.06-.94 2.06-2.06.94zm-11 1L8.5 8.5l.94-2.06 2.06-.94-2.06-.94L8.5 2.5l-.94 2.06-2.06.94zm10 10l.94 2.06.94-2.06 2.06-.94-2.06-.94-.94-2.06-.94 2.06-2.06.94z\"/><path d=\"M17.41 7.96l-1.37-1.37c-.4-.4-.92-.59-1.43-.59-.52 0-1.04.2-1.43.59L10.3 9.45l-7.72 7.72c-.78.78-.78 2.05 0 2.83L4 21.41c.39.39.9.59 1.41.59.51 0 1.02-.2 1.41-.59l7.78-7.78 2.81-2.81c.8-.78.8-2.07 0-2.86zM5.41 20L4 18.59l7.72-7.72 1.47 1.35L5.41 20z\"/>\n",
       "  </svg>\n",
       "      </button>\n",
       "      \n",
       "  <style>\n",
       "    .colab-df-container {\n",
       "      display:flex;\n",
       "      flex-wrap:wrap;\n",
       "      gap: 12px;\n",
       "    }\n",
       "\n",
       "    .colab-df-convert {\n",
       "      background-color: #E8F0FE;\n",
       "      border: none;\n",
       "      border-radius: 50%;\n",
       "      cursor: pointer;\n",
       "      display: none;\n",
       "      fill: #1967D2;\n",
       "      height: 32px;\n",
       "      padding: 0 0 0 0;\n",
       "      width: 32px;\n",
       "    }\n",
       "\n",
       "    .colab-df-convert:hover {\n",
       "      background-color: #E2EBFA;\n",
       "      box-shadow: 0px 1px 2px rgba(60, 64, 67, 0.3), 0px 1px 3px 1px rgba(60, 64, 67, 0.15);\n",
       "      fill: #174EA6;\n",
       "    }\n",
       "\n",
       "    [theme=dark] .colab-df-convert {\n",
       "      background-color: #3B4455;\n",
       "      fill: #D2E3FC;\n",
       "    }\n",
       "\n",
       "    [theme=dark] .colab-df-convert:hover {\n",
       "      background-color: #434B5C;\n",
       "      box-shadow: 0px 1px 3px 1px rgba(0, 0, 0, 0.15);\n",
       "      filter: drop-shadow(0px 1px 2px rgba(0, 0, 0, 0.3));\n",
       "      fill: #FFFFFF;\n",
       "    }\n",
       "  </style>\n",
       "\n",
       "      <script>\n",
       "        const buttonEl =\n",
       "          document.querySelector('#df-54fde7f6-bda5-49cd-8a3b-2dbf63694890 button.colab-df-convert');\n",
       "        buttonEl.style.display =\n",
       "          google.colab.kernel.accessAllowed ? 'block' : 'none';\n",
       "\n",
       "        async function convertToInteractive(key) {\n",
       "          const element = document.querySelector('#df-54fde7f6-bda5-49cd-8a3b-2dbf63694890');\n",
       "          const dataTable =\n",
       "            await google.colab.kernel.invokeFunction('convertToInteractive',\n",
       "                                                     [key], {});\n",
       "          if (!dataTable) return;\n",
       "\n",
       "          const docLinkHtml = 'Like what you see? Visit the ' +\n",
       "            '<a target=\"_blank\" href=https://colab.research.google.com/notebooks/data_table.ipynb>data table notebook</a>'\n",
       "            + ' to learn more about interactive tables.';\n",
       "          element.innerHTML = '';\n",
       "          dataTable['output_type'] = 'display_data';\n",
       "          await google.colab.output.renderOutput(dataTable, element);\n",
       "          const docLink = document.createElement('div');\n",
       "          docLink.innerHTML = docLinkHtml;\n",
       "          element.appendChild(docLink);\n",
       "        }\n",
       "      </script>\n",
       "    </div>\n",
       "  </div>\n",
       "  "
      ],
      "text/plain": [
       "        PhraseId  SentenceId  \\\n",
       "0              1           1   \n",
       "1              2           1   \n",
       "2              3           1   \n",
       "3              4           1   \n",
       "4              5           1   \n",
       "...          ...         ...   \n",
       "156055    156056        8544   \n",
       "156056    156057        8544   \n",
       "156057    156058        8544   \n",
       "156058    156059        8544   \n",
       "156059    156060        8544   \n",
       "\n",
       "                                                   Phrase  Sentiment  \n",
       "0       A series of escapades demonstrating the adage ...          1  \n",
       "1       A series of escapades demonstrating the adage ...          2  \n",
       "2                                                A series          2  \n",
       "3                                                       A          2  \n",
       "4                                                  series          2  \n",
       "...                                                   ...        ...  \n",
       "156055                                          Hearst 's          2  \n",
       "156056                          forced avuncular chortles          1  \n",
       "156057                                 avuncular chortles          3  \n",
       "156058                                          avuncular          2  \n",
       "156059                                           chortles          2  \n",
       "\n",
       "[156060 rows x 4 columns]"
      ]
     },
     "execution_count": 9,
     "metadata": {},
     "output_type": "execute_result"
    }
   ],
   "source": [
    "raw_df"
   ]
  },
  {
   "cell_type": "code",
   "execution_count": 10,
   "metadata": {
    "colab": {
     "base_uri": "https://localhost:8080/"
    },
    "executionInfo": {
     "elapsed": 687,
     "status": "ok",
     "timestamp": 1669337034115,
     "user": {
      "displayName": "Laurent Cabrel Tabueu Fotso",
      "userId": "03330808069489833311"
     },
     "user_tz": -60
    },
    "id": "EF3B9tjTxJVn",
    "outputId": "dcfee89f-6c6b-46c9-e87e-942e9efedfc4"
   },
   "outputs": [
    {
     "data": {
      "text/plain": [
       "array(['dysfunctional family',\n",
       "       \"can take credit for most of the movie 's success .\",\n",
       "       'sprinkled everywhere', 'something terrible happens',\n",
       "       ', generous and subversive artworks', 'blazingly',\n",
       "       'intricate magic', \"has n't been raised above sixth-grade height\",\n",
       "       'a woman', 'childlike dimness'], dtype=object)"
      ]
     },
     "execution_count": 10,
     "metadata": {},
     "output_type": "execute_result"
    }
   ],
   "source": [
    "raw_df.Phrase.sample(10).values"
   ]
  },
  {
   "cell_type": "code",
   "execution_count": 11,
   "metadata": {
    "executionInfo": {
     "elapsed": 7,
     "status": "ok",
     "timestamp": 1669337035807,
     "user": {
      "displayName": "Laurent Cabrel Tabueu Fotso",
      "userId": "03330808069489833311"
     },
     "user_tz": -60
    },
    "id": "ZwubETUvxTBo"
   },
   "outputs": [],
   "source": [
    "test_df =  pd.read_csv(test_fname,sep='\\t')"
   ]
  },
  {
   "cell_type": "code",
   "execution_count": 12,
   "metadata": {
    "colab": {
     "base_uri": "https://localhost:8080/",
     "height": 424
    },
    "executionInfo": {
     "elapsed": 635,
     "status": "ok",
     "timestamp": 1669337037266,
     "user": {
      "displayName": "Laurent Cabrel Tabueu Fotso",
      "userId": "03330808069489833311"
     },
     "user_tz": -60
    },
    "id": "l0Skd9KnxdjV",
    "outputId": "d137307c-6966-4870-b0bd-8d87f516c47b"
   },
   "outputs": [
    {
     "data": {
      "text/html": [
       "\n",
       "  <div id=\"df-b956cd51-1dab-4db0-9e20-739cdea30b07\">\n",
       "    <div class=\"colab-df-container\">\n",
       "      <div>\n",
       "<style scoped>\n",
       "    .dataframe tbody tr th:only-of-type {\n",
       "        vertical-align: middle;\n",
       "    }\n",
       "\n",
       "    .dataframe tbody tr th {\n",
       "        vertical-align: top;\n",
       "    }\n",
       "\n",
       "    .dataframe thead th {\n",
       "        text-align: right;\n",
       "    }\n",
       "</style>\n",
       "<table border=\"1\" class=\"dataframe\">\n",
       "  <thead>\n",
       "    <tr style=\"text-align: right;\">\n",
       "      <th></th>\n",
       "      <th>PhraseId</th>\n",
       "      <th>SentenceId</th>\n",
       "      <th>Phrase</th>\n",
       "    </tr>\n",
       "  </thead>\n",
       "  <tbody>\n",
       "    <tr>\n",
       "      <th>0</th>\n",
       "      <td>156061</td>\n",
       "      <td>8545</td>\n",
       "      <td>An intermittently pleasing but mostly routine ...</td>\n",
       "    </tr>\n",
       "    <tr>\n",
       "      <th>1</th>\n",
       "      <td>156062</td>\n",
       "      <td>8545</td>\n",
       "      <td>An intermittently pleasing but mostly routine ...</td>\n",
       "    </tr>\n",
       "    <tr>\n",
       "      <th>2</th>\n",
       "      <td>156063</td>\n",
       "      <td>8545</td>\n",
       "      <td>An</td>\n",
       "    </tr>\n",
       "    <tr>\n",
       "      <th>3</th>\n",
       "      <td>156064</td>\n",
       "      <td>8545</td>\n",
       "      <td>intermittently pleasing but mostly routine effort</td>\n",
       "    </tr>\n",
       "    <tr>\n",
       "      <th>4</th>\n",
       "      <td>156065</td>\n",
       "      <td>8545</td>\n",
       "      <td>intermittently pleasing but mostly routine</td>\n",
       "    </tr>\n",
       "    <tr>\n",
       "      <th>...</th>\n",
       "      <td>...</td>\n",
       "      <td>...</td>\n",
       "      <td>...</td>\n",
       "    </tr>\n",
       "    <tr>\n",
       "      <th>66287</th>\n",
       "      <td>222348</td>\n",
       "      <td>11855</td>\n",
       "      <td>A long-winded , predictable scenario .</td>\n",
       "    </tr>\n",
       "    <tr>\n",
       "      <th>66288</th>\n",
       "      <td>222349</td>\n",
       "      <td>11855</td>\n",
       "      <td>A long-winded , predictable scenario</td>\n",
       "    </tr>\n",
       "    <tr>\n",
       "      <th>66289</th>\n",
       "      <td>222350</td>\n",
       "      <td>11855</td>\n",
       "      <td>A long-winded ,</td>\n",
       "    </tr>\n",
       "    <tr>\n",
       "      <th>66290</th>\n",
       "      <td>222351</td>\n",
       "      <td>11855</td>\n",
       "      <td>A long-winded</td>\n",
       "    </tr>\n",
       "    <tr>\n",
       "      <th>66291</th>\n",
       "      <td>222352</td>\n",
       "      <td>11855</td>\n",
       "      <td>predictable scenario</td>\n",
       "    </tr>\n",
       "  </tbody>\n",
       "</table>\n",
       "<p>66292 rows × 3 columns</p>\n",
       "</div>\n",
       "      <button class=\"colab-df-convert\" onclick=\"convertToInteractive('df-b956cd51-1dab-4db0-9e20-739cdea30b07')\"\n",
       "              title=\"Convert this dataframe to an interactive table.\"\n",
       "              style=\"display:none;\">\n",
       "        \n",
       "  <svg xmlns=\"http://www.w3.org/2000/svg\" height=\"24px\"viewBox=\"0 0 24 24\"\n",
       "       width=\"24px\">\n",
       "    <path d=\"M0 0h24v24H0V0z\" fill=\"none\"/>\n",
       "    <path d=\"M18.56 5.44l.94 2.06.94-2.06 2.06-.94-2.06-.94-.94-2.06-.94 2.06-2.06.94zm-11 1L8.5 8.5l.94-2.06 2.06-.94-2.06-.94L8.5 2.5l-.94 2.06-2.06.94zm10 10l.94 2.06.94-2.06 2.06-.94-2.06-.94-.94-2.06-.94 2.06-2.06.94z\"/><path d=\"M17.41 7.96l-1.37-1.37c-.4-.4-.92-.59-1.43-.59-.52 0-1.04.2-1.43.59L10.3 9.45l-7.72 7.72c-.78.78-.78 2.05 0 2.83L4 21.41c.39.39.9.59 1.41.59.51 0 1.02-.2 1.41-.59l7.78-7.78 2.81-2.81c.8-.78.8-2.07 0-2.86zM5.41 20L4 18.59l7.72-7.72 1.47 1.35L5.41 20z\"/>\n",
       "  </svg>\n",
       "      </button>\n",
       "      \n",
       "  <style>\n",
       "    .colab-df-container {\n",
       "      display:flex;\n",
       "      flex-wrap:wrap;\n",
       "      gap: 12px;\n",
       "    }\n",
       "\n",
       "    .colab-df-convert {\n",
       "      background-color: #E8F0FE;\n",
       "      border: none;\n",
       "      border-radius: 50%;\n",
       "      cursor: pointer;\n",
       "      display: none;\n",
       "      fill: #1967D2;\n",
       "      height: 32px;\n",
       "      padding: 0 0 0 0;\n",
       "      width: 32px;\n",
       "    }\n",
       "\n",
       "    .colab-df-convert:hover {\n",
       "      background-color: #E2EBFA;\n",
       "      box-shadow: 0px 1px 2px rgba(60, 64, 67, 0.3), 0px 1px 3px 1px rgba(60, 64, 67, 0.15);\n",
       "      fill: #174EA6;\n",
       "    }\n",
       "\n",
       "    [theme=dark] .colab-df-convert {\n",
       "      background-color: #3B4455;\n",
       "      fill: #D2E3FC;\n",
       "    }\n",
       "\n",
       "    [theme=dark] .colab-df-convert:hover {\n",
       "      background-color: #434B5C;\n",
       "      box-shadow: 0px 1px 3px 1px rgba(0, 0, 0, 0.15);\n",
       "      filter: drop-shadow(0px 1px 2px rgba(0, 0, 0, 0.3));\n",
       "      fill: #FFFFFF;\n",
       "    }\n",
       "  </style>\n",
       "\n",
       "      <script>\n",
       "        const buttonEl =\n",
       "          document.querySelector('#df-b956cd51-1dab-4db0-9e20-739cdea30b07 button.colab-df-convert');\n",
       "        buttonEl.style.display =\n",
       "          google.colab.kernel.accessAllowed ? 'block' : 'none';\n",
       "\n",
       "        async function convertToInteractive(key) {\n",
       "          const element = document.querySelector('#df-b956cd51-1dab-4db0-9e20-739cdea30b07');\n",
       "          const dataTable =\n",
       "            await google.colab.kernel.invokeFunction('convertToInteractive',\n",
       "                                                     [key], {});\n",
       "          if (!dataTable) return;\n",
       "\n",
       "          const docLinkHtml = 'Like what you see? Visit the ' +\n",
       "            '<a target=\"_blank\" href=https://colab.research.google.com/notebooks/data_table.ipynb>data table notebook</a>'\n",
       "            + ' to learn more about interactive tables.';\n",
       "          element.innerHTML = '';\n",
       "          dataTable['output_type'] = 'display_data';\n",
       "          await google.colab.output.renderOutput(dataTable, element);\n",
       "          const docLink = document.createElement('div');\n",
       "          docLink.innerHTML = docLinkHtml;\n",
       "          element.appendChild(docLink);\n",
       "        }\n",
       "      </script>\n",
       "    </div>\n",
       "  </div>\n",
       "  "
      ],
      "text/plain": [
       "       PhraseId  SentenceId                                             Phrase\n",
       "0        156061        8545  An intermittently pleasing but mostly routine ...\n",
       "1        156062        8545  An intermittently pleasing but mostly routine ...\n",
       "2        156063        8545                                                 An\n",
       "3        156064        8545  intermittently pleasing but mostly routine effort\n",
       "4        156065        8545         intermittently pleasing but mostly routine\n",
       "...         ...         ...                                                ...\n",
       "66287    222348       11855             A long-winded , predictable scenario .\n",
       "66288    222349       11855               A long-winded , predictable scenario\n",
       "66289    222350       11855                                    A long-winded ,\n",
       "66290    222351       11855                                      A long-winded\n",
       "66291    222352       11855                               predictable scenario\n",
       "\n",
       "[66292 rows x 3 columns]"
      ]
     },
     "execution_count": 12,
     "metadata": {},
     "output_type": "execute_result"
    }
   ],
   "source": [
    "test_df"
   ]
  },
  {
   "cell_type": "code",
   "execution_count": 13,
   "metadata": {
    "executionInfo": {
     "elapsed": 645,
     "status": "ok",
     "timestamp": 1669337041019,
     "user": {
      "displayName": "Laurent Cabrel Tabueu Fotso",
      "userId": "03330808069489833311"
     },
     "user_tz": -60
    },
    "id": "uT_Dci92enWk"
   },
   "outputs": [],
   "source": [
    "sub_df = pd.read_csv(sub_fname)"
   ]
  },
  {
   "cell_type": "code",
   "execution_count": 14,
   "metadata": {
    "colab": {
     "base_uri": "https://localhost:8080/",
     "height": 424
    },
    "executionInfo": {
     "elapsed": 12,
     "status": "ok",
     "timestamp": 1669337042943,
     "user": {
      "displayName": "Laurent Cabrel Tabueu Fotso",
      "userId": "03330808069489833311"
     },
     "user_tz": -60
    },
    "id": "1ao58CXLx15G",
    "outputId": "b0cd02c7-54c0-4116-f843-bdfd1546dcd0"
   },
   "outputs": [
    {
     "data": {
      "text/html": [
       "\n",
       "  <div id=\"df-aa12cd3f-e24e-4a3d-bc11-c672c1897da8\">\n",
       "    <div class=\"colab-df-container\">\n",
       "      <div>\n",
       "<style scoped>\n",
       "    .dataframe tbody tr th:only-of-type {\n",
       "        vertical-align: middle;\n",
       "    }\n",
       "\n",
       "    .dataframe tbody tr th {\n",
       "        vertical-align: top;\n",
       "    }\n",
       "\n",
       "    .dataframe thead th {\n",
       "        text-align: right;\n",
       "    }\n",
       "</style>\n",
       "<table border=\"1\" class=\"dataframe\">\n",
       "  <thead>\n",
       "    <tr style=\"text-align: right;\">\n",
       "      <th></th>\n",
       "      <th>PhraseId</th>\n",
       "      <th>Sentiment</th>\n",
       "    </tr>\n",
       "  </thead>\n",
       "  <tbody>\n",
       "    <tr>\n",
       "      <th>0</th>\n",
       "      <td>156061</td>\n",
       "      <td>2</td>\n",
       "    </tr>\n",
       "    <tr>\n",
       "      <th>1</th>\n",
       "      <td>156062</td>\n",
       "      <td>2</td>\n",
       "    </tr>\n",
       "    <tr>\n",
       "      <th>2</th>\n",
       "      <td>156063</td>\n",
       "      <td>2</td>\n",
       "    </tr>\n",
       "    <tr>\n",
       "      <th>3</th>\n",
       "      <td>156064</td>\n",
       "      <td>2</td>\n",
       "    </tr>\n",
       "    <tr>\n",
       "      <th>4</th>\n",
       "      <td>156065</td>\n",
       "      <td>2</td>\n",
       "    </tr>\n",
       "    <tr>\n",
       "      <th>...</th>\n",
       "      <td>...</td>\n",
       "      <td>...</td>\n",
       "    </tr>\n",
       "    <tr>\n",
       "      <th>66287</th>\n",
       "      <td>222348</td>\n",
       "      <td>2</td>\n",
       "    </tr>\n",
       "    <tr>\n",
       "      <th>66288</th>\n",
       "      <td>222349</td>\n",
       "      <td>2</td>\n",
       "    </tr>\n",
       "    <tr>\n",
       "      <th>66289</th>\n",
       "      <td>222350</td>\n",
       "      <td>2</td>\n",
       "    </tr>\n",
       "    <tr>\n",
       "      <th>66290</th>\n",
       "      <td>222351</td>\n",
       "      <td>2</td>\n",
       "    </tr>\n",
       "    <tr>\n",
       "      <th>66291</th>\n",
       "      <td>222352</td>\n",
       "      <td>2</td>\n",
       "    </tr>\n",
       "  </tbody>\n",
       "</table>\n",
       "<p>66292 rows × 2 columns</p>\n",
       "</div>\n",
       "      <button class=\"colab-df-convert\" onclick=\"convertToInteractive('df-aa12cd3f-e24e-4a3d-bc11-c672c1897da8')\"\n",
       "              title=\"Convert this dataframe to an interactive table.\"\n",
       "              style=\"display:none;\">\n",
       "        \n",
       "  <svg xmlns=\"http://www.w3.org/2000/svg\" height=\"24px\"viewBox=\"0 0 24 24\"\n",
       "       width=\"24px\">\n",
       "    <path d=\"M0 0h24v24H0V0z\" fill=\"none\"/>\n",
       "    <path d=\"M18.56 5.44l.94 2.06.94-2.06 2.06-.94-2.06-.94-.94-2.06-.94 2.06-2.06.94zm-11 1L8.5 8.5l.94-2.06 2.06-.94-2.06-.94L8.5 2.5l-.94 2.06-2.06.94zm10 10l.94 2.06.94-2.06 2.06-.94-2.06-.94-.94-2.06-.94 2.06-2.06.94z\"/><path d=\"M17.41 7.96l-1.37-1.37c-.4-.4-.92-.59-1.43-.59-.52 0-1.04.2-1.43.59L10.3 9.45l-7.72 7.72c-.78.78-.78 2.05 0 2.83L4 21.41c.39.39.9.59 1.41.59.51 0 1.02-.2 1.41-.59l7.78-7.78 2.81-2.81c.8-.78.8-2.07 0-2.86zM5.41 20L4 18.59l7.72-7.72 1.47 1.35L5.41 20z\"/>\n",
       "  </svg>\n",
       "      </button>\n",
       "      \n",
       "  <style>\n",
       "    .colab-df-container {\n",
       "      display:flex;\n",
       "      flex-wrap:wrap;\n",
       "      gap: 12px;\n",
       "    }\n",
       "\n",
       "    .colab-df-convert {\n",
       "      background-color: #E8F0FE;\n",
       "      border: none;\n",
       "      border-radius: 50%;\n",
       "      cursor: pointer;\n",
       "      display: none;\n",
       "      fill: #1967D2;\n",
       "      height: 32px;\n",
       "      padding: 0 0 0 0;\n",
       "      width: 32px;\n",
       "    }\n",
       "\n",
       "    .colab-df-convert:hover {\n",
       "      background-color: #E2EBFA;\n",
       "      box-shadow: 0px 1px 2px rgba(60, 64, 67, 0.3), 0px 1px 3px 1px rgba(60, 64, 67, 0.15);\n",
       "      fill: #174EA6;\n",
       "    }\n",
       "\n",
       "    [theme=dark] .colab-df-convert {\n",
       "      background-color: #3B4455;\n",
       "      fill: #D2E3FC;\n",
       "    }\n",
       "\n",
       "    [theme=dark] .colab-df-convert:hover {\n",
       "      background-color: #434B5C;\n",
       "      box-shadow: 0px 1px 3px 1px rgba(0, 0, 0, 0.15);\n",
       "      filter: drop-shadow(0px 1px 2px rgba(0, 0, 0, 0.3));\n",
       "      fill: #FFFFFF;\n",
       "    }\n",
       "  </style>\n",
       "\n",
       "      <script>\n",
       "        const buttonEl =\n",
       "          document.querySelector('#df-aa12cd3f-e24e-4a3d-bc11-c672c1897da8 button.colab-df-convert');\n",
       "        buttonEl.style.display =\n",
       "          google.colab.kernel.accessAllowed ? 'block' : 'none';\n",
       "\n",
       "        async function convertToInteractive(key) {\n",
       "          const element = document.querySelector('#df-aa12cd3f-e24e-4a3d-bc11-c672c1897da8');\n",
       "          const dataTable =\n",
       "            await google.colab.kernel.invokeFunction('convertToInteractive',\n",
       "                                                     [key], {});\n",
       "          if (!dataTable) return;\n",
       "\n",
       "          const docLinkHtml = 'Like what you see? Visit the ' +\n",
       "            '<a target=\"_blank\" href=https://colab.research.google.com/notebooks/data_table.ipynb>data table notebook</a>'\n",
       "            + ' to learn more about interactive tables.';\n",
       "          element.innerHTML = '';\n",
       "          dataTable['output_type'] = 'display_data';\n",
       "          await google.colab.output.renderOutput(dataTable, element);\n",
       "          const docLink = document.createElement('div');\n",
       "          docLink.innerHTML = docLinkHtml;\n",
       "          element.appendChild(docLink);\n",
       "        }\n",
       "      </script>\n",
       "    </div>\n",
       "  </div>\n",
       "  "
      ],
      "text/plain": [
       "       PhraseId  Sentiment\n",
       "0        156061          2\n",
       "1        156062          2\n",
       "2        156063          2\n",
       "3        156064          2\n",
       "4        156065          2\n",
       "...         ...        ...\n",
       "66287    222348          2\n",
       "66288    222349          2\n",
       "66289    222350          2\n",
       "66290    222351          2\n",
       "66291    222352          2\n",
       "\n",
       "[66292 rows x 2 columns]"
      ]
     },
     "execution_count": 14,
     "metadata": {},
     "output_type": "execute_result"
    }
   ],
   "source": [
    "sub_df"
   ]
  },
  {
   "cell_type": "code",
   "execution_count": 15,
   "metadata": {
    "colab": {
     "base_uri": "https://localhost:8080/",
     "height": 279
    },
    "executionInfo": {
     "elapsed": 16,
     "status": "ok",
     "timestamp": 1669337044325,
     "user": {
      "displayName": "Laurent Cabrel Tabueu Fotso",
      "userId": "03330808069489833311"
     },
     "user_tz": -60
    },
    "id": "-uae8Me6tt4I",
    "outputId": "ae57f24c-17f4-4b2c-da69-56f2f6e23bbb"
   },
   "outputs": [
    {
     "data": {
      "text/plain": [
       "<matplotlib.axes._subplots.AxesSubplot at 0x7f272efb9d90>"
      ]
     },
     "execution_count": 15,
     "metadata": {},
     "output_type": "execute_result"
    },
    {
     "data": {
      "image/png": "[encoded data removed]",
      "text/plain": [
       "<Figure size 432x288 with 1 Axes>"
      ]
     },
     "metadata": {
      "needs_background": "light"
     },
     "output_type": "display_data"
    }
   ],
   "source": [
    "raw_df.Sentiment.value_counts(normalize=True).sort_index().plot(kind='bar')"
   ]
  },
  {
   "cell_type": "markdown",
   "metadata": {
    "id": "yESLHuK3x65P"
   },
   "source": [
    "Summarize your insights and learnings from the dataset below:\n",
    "\n",
    "* `???`\n",
    "* `???`\n",
    "* `???`"
   ]
  },
  {
   "cell_type": "markdown",
   "metadata": {
    "id": "pYaRDixJen33"
   },
   "source": [
    "## Implement TF-IDF Technique\n",
    "\n",
    "![](https://i.imgur.com/5VbUPup.png)\n",
    "\n",
    "Outline:\n",
    "\n",
    "1. Learn the vocabulary using `TfidfVectorizer`\n",
    "3. Transform training and test data"
   ]
  },
  {
   "cell_type": "markdown",
   "metadata": {
    "id": "m3cu-meXuETm"
   },
   "source": [
    "#### Learn Vocabulary using `TfidfVectorizer `\n",
    "\n",
    "* Create custom tokenizer with stemming\n",
    "* Create a list of stop words\n",
    "* Configure and create `TfidfVectorizer `\n",
    "* Learn vocubulary from training set\n",
    "* View sample entries from vocabulary"
   ]
  },
  {
   "cell_type": "code",
   "execution_count": 16,
   "metadata": {
    "colab": {
     "base_uri": "https://localhost:8080/"
    },
    "executionInfo": {
     "elapsed": 2666,
     "status": "ok",
     "timestamp": 1669337054942,
     "user": {
      "displayName": "Laurent Cabrel Tabueu Fotso",
      "userId": "03330808069489833311"
     },
     "user_tz": -60
    },
    "id": "u7pWYRHnzUWW",
    "outputId": "8df669f8-98c3-4e1b-c8e0-2e652311a2f9"
   },
   "outputs": [
    {
     "name": "stderr",
     "output_type": "stream",
     "text": [
      "[nltk_data] Downloading package stopwords to /root/nltk_data...\n",
      "[nltk_data]   Unzipping corpora/stopwords.zip.\n",
      "[nltk_data] Downloading package punkt to /root/nltk_data...\n",
      "[nltk_data]   Unzipping tokenizers/punkt.zip.\n"
     ]
    },
    {
     "data": {
      "text/plain": [
       "True"
      ]
     },
     "execution_count": 16,
     "metadata": {},
     "output_type": "execute_result"
    }
   ],
   "source": [
    "import nltk\n",
    "from nltk.tokenize import word_tokenize\n",
    "from nltk.corpus import stopwords\n",
    "from nltk.stem.snowball import SnowballStemmer\n",
    "nltk.download('stopwords')\n",
    "nltk.download('punkt')"
   ]
  },
  {
   "cell_type": "code",
   "execution_count": 17,
   "metadata": {
    "executionInfo": {
     "elapsed": 32,
     "status": "ok",
     "timestamp": 1669337054946,
     "user": {
      "displayName": "Laurent Cabrel Tabueu Fotso",
      "userId": "03330808069489833311"
     },
     "user_tz": -60
    },
    "id": "Ag_lyI8mzbqE"
   },
   "outputs": [],
   "source": [
    "stemmer = SnowballStemmer(language='english')\n"
   ]
  },
  {
   "cell_type": "code",
   "execution_count": 18,
   "metadata": {
    "executionInfo": {
     "elapsed": 32,
     "status": "ok",
     "timestamp": 1669337054948,
     "user": {
      "displayName": "Laurent Cabrel Tabueu Fotso",
      "userId": "03330808069489833311"
     },
     "user_tz": -60
    },
    "id": "4vzkmwVG0GGE"
   },
   "outputs": [],
   "source": [
    "def tokenizer(text):\n",
    "  return [stemmer.stem(token) for token in word_tokenize(text)  if token.isalpha()]"
   ]
  },
  {
   "cell_type": "code",
   "execution_count": 19,
   "metadata": {
    "colab": {
     "base_uri": "https://localhost:8080/"
    },
    "executionInfo": {
     "elapsed": 32,
     "status": "ok",
     "timestamp": 1669337054950,
     "user": {
      "displayName": "Laurent Cabrel Tabueu Fotso",
      "userId": "03330808069489833311"
     },
     "user_tz": -60
    },
    "id": "DxZWPPfE0FeN",
    "outputId": "ee6aff8f-3d1c-488d-f54c-ac43b0f15600"
   },
   "outputs": [
    {
     "data": {
      "text/plain": [
       "['is', 'this', 'the', 'real', 'life', 'or', 'it', 'is', 'fantasi']"
      ]
     },
     "execution_count": 19,
     "metadata": {},
     "output_type": "execute_result"
    }
   ],
   "source": [
    "tokenizer('Is this (the) real life, or it is; fantasy?')"
   ]
  },
  {
   "cell_type": "code",
   "execution_count": 20,
   "metadata": {
    "executionInfo": {
     "elapsed": 31,
     "status": "ok",
     "timestamp": 1669337054952,
     "user": {
      "displayName": "Laurent Cabrel Tabueu Fotso",
      "userId": "03330808069489833311"
     },
     "user_tz": -60
    },
    "id": "ffPOWbhdd7oP"
   },
   "outputs": [],
   "source": [
    "from sklearn.feature_extraction.text import TfidfVectorizer"
   ]
  },
  {
   "cell_type": "code",
   "execution_count": 21,
   "metadata": {
    "executionInfo": {
     "elapsed": 30,
     "status": "ok",
     "timestamp": 1669337054953,
     "user": {
      "displayName": "Laurent Cabrel Tabueu Fotso",
      "userId": "03330808069489833311"
     },
     "user_tz": -60
    },
    "id": "aggX4uwmeswS"
   },
   "outputs": [],
   "source": [
    "selected_stopwords = stopwords.words('english')[:115]"
   ]
  },
  {
   "cell_type": "code",
   "execution_count": 22,
   "metadata": {
    "colab": {
     "base_uri": "https://localhost:8080/",
     "height": 122
    },
    "executionInfo": {
     "elapsed": 30,
     "status": "ok",
     "timestamp": 1669337054954,
     "user": {
      "displayName": "Laurent Cabrel Tabueu Fotso",
      "userId": "03330808069489833311"
     },
     "user_tz": -60
    },
    "id": "UWS0NJkk0Z2p",
    "outputId": "fcb9dc6f-583c-4abb-ebcc-350c89773e8e"
   },
   "outputs": [
    {
     "data": {
      "application/vnd.google.colaboratory.intrinsic+json": {
       "type": "string"
      },
      "text/plain": [
       "\"i, me, my, myself, we, our, ours, ourselves, you, you're, you've, you'll, you'd, your, yours, yourself, yourselves, he, him, his, himself, she, she's, her, hers, herself, it, it's, its, itself, they, them, their, theirs, themselves, what, which, who, whom, this, that, that'll, these, those, am, is, are, was, were, be, been, being, have, has, had, having, do, does, did, doing, a, an, the, and, but, if, or, because, as, until, while, of, at, by, for, with, about, against, between, into, through, during, before, after, above, below, to, from, up, down, in, out, on, off, over, under, again, further, then, once, here, there, when, where, why, how, all, any, both, each, few, more, most, other, some\""
      ]
     },
     "execution_count": 22,
     "metadata": {},
     "output_type": "execute_result"
    }
   ],
   "source": [
    "', '.join(selected_stopwords)"
   ]
  },
  {
   "cell_type": "code",
   "execution_count": 23,
   "metadata": {
    "executionInfo": {
     "elapsed": 29,
     "status": "ok",
     "timestamp": 1669337054957,
     "user": {
      "displayName": "Laurent Cabrel Tabueu Fotso",
      "userId": "03330808069489833311"
     },
     "user_tz": -60
    },
    "id": "Tu_garEvesta"
   },
   "outputs": [],
   "source": [
    "vectorizer = TfidfVectorizer(tokenizer=tokenizer,\n",
    "                             stop_words=selected_stopwords,\n",
    "                             ngram_range=(1,2),\n",
    "                             max_features=2000)"
   ]
  },
  {
   "cell_type": "code",
   "execution_count": 24,
   "metadata": {
    "colab": {
     "base_uri": "https://localhost:8080/"
    },
    "executionInfo": {
     "elapsed": 29924,
     "status": "ok",
     "timestamp": 1669337084853,
     "user": {
      "displayName": "Laurent Cabrel Tabueu Fotso",
      "userId": "03330808069489833311"
     },
     "user_tz": -60
    },
    "id": "Xl-NWRL4esq8",
    "outputId": "a64777a4-9c83-4a27-eac5-4f45d0c08584"
   },
   "outputs": [
    {
     "name": "stderr",
     "output_type": "stream",
     "text": [
      "/usr/local/lib/python3.7/dist-packages/sklearn/feature_extraction/text.py:517: UserWarning: The parameter 'token_pattern' will not be used since 'tokenizer' is not None'\n",
      "  \"The parameter 'token_pattern' will not be used\"\n",
      "/usr/local/lib/python3.7/dist-packages/sklearn/feature_extraction/text.py:401: UserWarning: Your stop_words may be inconsistent with your preprocessing. Tokenizing the stop words generated tokens ['abov', 'ani', 'becaus', 'befor', 'doe', 'dure', 'onc', 'ourselv', 'themselv', 'whi', 'yourselv'] not in stop_words.\n",
      "  % sorted(inconsistent)\n"
     ]
    },
    {
     "data": {
      "text/plain": [
       "TfidfVectorizer(max_features=2000, ngram_range=(1, 2),\n",
       "                stop_words=['i', 'me', 'my', 'myself', 'we', 'our', 'ours',\n",
       "                            'ourselves', 'you', \"you're\", \"you've\", \"you'll\",\n",
       "                            \"you'd\", 'your', 'yours', 'yourself', 'yourselves',\n",
       "                            'he', 'him', 'his', 'himself', 'she', \"she's\",\n",
       "                            'her', 'hers', 'herself', 'it', \"it's\", 'its',\n",
       "                            'itself', ...],\n",
       "                tokenizer=<function tokenizer at 0x7f2716c29b90>)"
      ]
     },
     "execution_count": 24,
     "metadata": {},
     "output_type": "execute_result"
    }
   ],
   "source": [
    "vectorizer.fit(raw_df.Phrase)"
   ]
  },
  {
   "cell_type": "code",
   "execution_count": 25,
   "metadata": {
    "colab": {
     "base_uri": "https://localhost:8080/"
    },
    "executionInfo": {
     "elapsed": 26,
     "status": "ok",
     "timestamp": 1669337084856,
     "user": {
      "displayName": "Laurent Cabrel Tabueu Fotso",
      "userId": "03330808069489833311"
     },
     "user_tz": -60
    },
    "id": "7re6Uh_l03vY",
    "outputId": "136863f2-c1e0-41ff-b458-6c1cdcfbb9e0"
   },
   "outputs": [
    {
     "data": {
      "text/plain": [
       "2000"
      ]
     },
     "execution_count": 25,
     "metadata": {},
     "output_type": "execute_result"
    }
   ],
   "source": [
    "len(vectorizer.vocabulary_)"
   ]
  },
  {
   "cell_type": "code",
   "execution_count": 26,
   "metadata": {
    "colab": {
     "base_uri": "https://localhost:8080/"
    },
    "executionInfo": {
     "elapsed": 22,
     "status": "ok",
     "timestamp": 1669337084860,
     "user": {
      "displayName": "Laurent Cabrel Tabueu Fotso",
      "userId": "03330808069489833311"
     },
     "user_tz": -60
    },
    "id": "PmPLT4Lf0uFT",
    "outputId": "6c687b4e-c09e-4eb0-b6a0-37c8e29acf88"
   },
   "outputs": [
    {
     "data": {
      "text/plain": [
       "array(['abandon', 'abil', 'abl', 'abov', 'absolut', 'absorb', 'abstract',\n",
       "       'absurd', 'abus', 'accent', 'accept', 'access', 'accomplish',\n",
       "       'accur', 'ach', 'achiev', 'across', 'act', 'action', 'action film',\n",
       "       'action movi', 'action sequenc', 'actor', 'actress', 'actual',\n",
       "       'ad', 'adam', 'adam sandler', 'adapt', 'add', 'addit', 'adequ',\n",
       "       'admir', 'admit', 'adolesc', 'adult', 'adventur', 'affair',\n",
       "       'affect', 'afraid', 'age', 'ago', 'ahead', 'aim', 'aimless', 'air',\n",
       "       'alien', 'aliv', 'allen', 'allow', 'almost', 'alon', 'along',\n",
       "       'alreadi', 'also', 'altern', 'although', 'alway', 'amateurish',\n",
       "       'amaz', 'ambigu', 'ambit', 'ambiti', 'america', 'american',\n",
       "       'among', 'amount', 'amus', 'analyz', 'angel', 'angst', 'ani',\n",
       "       'anim', 'ann', 'annoy', 'anoth', 'answer', 'anyon', 'anyth',\n",
       "       'apart', 'appar', 'appeal', 'appear', 'appli', 'appreci',\n",
       "       'approach', 'appropri', 'area', 'argu', 'argument', 'around',\n",
       "       'arriv', 'art', 'artifici', 'artist', 'ask', 'aspect', 'aspir',\n",
       "       'assassin', 'associ', 'assur', 'astonish', 'atmospher', 'attack',\n",
       "       'attempt', 'attent', 'attract', 'audienc', 'authent', 'author',\n",
       "       'averag', 'avoid', 'aw', 'award', 'away', 'awkward', 'b', 'back',\n",
       "       'background', 'bad', 'bad movi', 'baffl', 'bag', 'balanc', 'banal',\n",
       "       'band', 'bare', 'barrel', 'barri', 'base', 'basic', 'battl',\n",
       "       'bear', 'beast', 'beat', 'beauti', 'becaus', 'becom', 'befor',\n",
       "       'begin', 'behavior', 'behind', 'believ', 'belli', 'belt',\n",
       "       'beneath', 'benefit', 'benigni', 'best', 'best film', 'better',\n",
       "       'better than', 'beyond', 'big', 'big screen', 'bigger', 'bill',\n",
       "       'bit', 'bite', 'bitter', 'bittersweet', 'bizarr', 'black', 'blade',\n",
       "       'blair', 'blair witch', 'bland', 'blank', 'blast', 'bleak',\n",
       "       'blend', 'blockbust', 'blood', 'blow', 'blue', 'boat', 'bodi',\n",
       "       'bold', 'bond', 'bone', 'book', 'border', 'bore', 'bother',\n",
       "       'bottom', 'box', 'boy', 'brain', 'break', 'breath', 'breathtak',\n",
       "       'bright', 'brilliant', 'bring', 'brit', 'british', 'britney',\n",
       "       'broad', 'broken', 'broomfield'], dtype=object)"
      ]
     },
     "execution_count": 26,
     "metadata": {},
     "output_type": "execute_result"
    }
   ],
   "source": [
    "vectorizer.get_feature_names_out()[:200]"
   ]
  },
  {
   "cell_type": "markdown",
   "metadata": {
    "id": "N83nLs4juO67"
   },
   "source": [
    "### Transform Training & Test Data\n",
    "\n",
    "* Transform phrases from training set\n",
    "* Transform phrases from test set\n",
    "* Look at some example values"
   ]
  },
  {
   "cell_type": "code",
   "execution_count": 27,
   "metadata": {
    "executionInfo": {
     "elapsed": 28694,
     "status": "ok",
     "timestamp": 1669337132671,
     "user": {
      "displayName": "Laurent Cabrel Tabueu Fotso",
      "userId": "03330808069489833311"
     },
     "user_tz": -60
    },
    "id": "B6WXWiQzuOcX"
   },
   "outputs": [],
   "source": [
    "inputs = vectorizer.transform(raw_df.Phrase)"
   ]
  },
  {
   "cell_type": "code",
   "execution_count": 28,
   "metadata": {
    "colab": {
     "base_uri": "https://localhost:8080/"
    },
    "executionInfo": {
     "elapsed": 24,
     "status": "ok",
     "timestamp": 1669337132673,
     "user": {
      "displayName": "Laurent Cabrel Tabueu Fotso",
      "userId": "03330808069489833311"
     },
     "user_tz": -60
    },
    "id": "0BDzHuBbuPSz",
    "outputId": "04027602-f824-4c62-c301-7b4c21b81f7e"
   },
   "outputs": [
    {
     "data": {
      "text/plain": [
       "(156060, 2000)"
      ]
     },
     "execution_count": 28,
     "metadata": {},
     "output_type": "execute_result"
    }
   ],
   "source": [
    "inputs.shape"
   ]
  },
  {
   "cell_type": "code",
   "execution_count": 29,
   "metadata": {
    "colab": {
     "base_uri": "https://localhost:8080/"
    },
    "executionInfo": {
     "elapsed": 1726,
     "status": "ok",
     "timestamp": 1669337134386,
     "user": {
      "displayName": "Laurent Cabrel Tabueu Fotso",
      "userId": "03330808069489833311"
     },
     "user_tz": -60
    },
    "id": "sEnfZpS83eUr",
    "outputId": "1cb9b152-5a52-40ec-b233-728e640548d5"
   },
   "outputs": [
    {
     "data": {
      "text/plain": [
       "array([0.        , 0.        , 0.        , 0.        , 0.        ,\n",
       "       0.        , 0.        , 0.        , 0.        , 0.        ,\n",
       "       0.        , 0.        , 0.        , 0.        , 0.        ,\n",
       "       0.        , 0.        , 0.        , 0.        , 0.        ,\n",
       "       0.        , 0.        , 0.        , 0.        , 0.        ,\n",
       "       0.        , 0.        , 0.        , 0.        , 0.        ,\n",
       "       0.        , 0.        , 0.        , 0.        , 0.        ,\n",
       "       0.        , 0.        , 0.        , 0.        , 0.        ,\n",
       "       0.        , 0.        , 0.        , 0.        , 0.        ,\n",
       "       0.        , 0.        , 0.        , 0.        , 0.        ,\n",
       "       0.        , 0.        , 0.        , 0.        , 0.27620188,\n",
       "       0.        , 0.        , 0.        , 0.        , 0.        ,\n",
       "       0.        , 0.        , 0.        , 0.        , 0.        ,\n",
       "       0.        , 0.33022325, 0.29314979, 0.        , 0.        ,\n",
       "       0.        , 0.        , 0.        , 0.        , 0.        ,\n",
       "       0.        , 0.        , 0.        , 0.        , 0.        ,\n",
       "       0.        , 0.        , 0.        , 0.        , 0.        ,\n",
       "       0.        , 0.        , 0.        , 0.        , 0.        ,\n",
       "       0.        , 0.        , 0.        , 0.        , 0.        ,\n",
       "       0.        , 0.        , 0.        , 0.        , 0.        ])"
      ]
     },
     "execution_count": 29,
     "metadata": {},
     "output_type": "execute_result"
    }
   ],
   "source": [
    "inputs.toarray()[0][:100]"
   ]
  },
  {
   "cell_type": "code",
   "execution_count": 30,
   "metadata": {
    "colab": {
     "base_uri": "https://localhost:8080/"
    },
    "executionInfo": {
     "elapsed": 11795,
     "status": "ok",
     "timestamp": 1669337146173,
     "user": {
      "displayName": "Laurent Cabrel Tabueu Fotso",
      "userId": "03330808069489833311"
     },
     "user_tz": -60
    },
    "id": "QLngc6g5yspe",
    "outputId": "06d35682-8d27-4202-8095-ec9d4c5a3b83"
   },
   "outputs": [
    {
     "data": {
      "text/plain": [
       "(66292, 2000)"
      ]
     },
     "execution_count": 30,
     "metadata": {},
     "output_type": "execute_result"
    }
   ],
   "source": [
    "test_inputs = vectorizer.transform(test_df.Phrase)\n",
    "test_inputs.shape"
   ]
  },
  {
   "cell_type": "code",
   "execution_count": 31,
   "metadata": {
    "colab": {
     "base_uri": "https://localhost:8080/",
     "height": 424
    },
    "executionInfo": {
     "elapsed": 17,
     "status": "ok",
     "timestamp": 1669337146176,
     "user": {
      "displayName": "Laurent Cabrel Tabueu Fotso",
      "userId": "03330808069489833311"
     },
     "user_tz": -60
    },
    "id": "z9JRRv_Q4QNf",
    "outputId": "65d3ff08-2a9a-4b25-fc82-336f6b66db25"
   },
   "outputs": [
    {
     "data": {
      "text/html": [
       "\n",
       "  <div id=\"df-9bc7aee8-8664-45ea-9d15-0f96bd5be392\">\n",
       "    <div class=\"colab-df-container\">\n",
       "      <div>\n",
       "<style scoped>\n",
       "    .dataframe tbody tr th:only-of-type {\n",
       "        vertical-align: middle;\n",
       "    }\n",
       "\n",
       "    .dataframe tbody tr th {\n",
       "        vertical-align: top;\n",
       "    }\n",
       "\n",
       "    .dataframe thead th {\n",
       "        text-align: right;\n",
       "    }\n",
       "</style>\n",
       "<table border=\"1\" class=\"dataframe\">\n",
       "  <thead>\n",
       "    <tr style=\"text-align: right;\">\n",
       "      <th></th>\n",
       "      <th>PhraseId</th>\n",
       "      <th>SentenceId</th>\n",
       "      <th>Phrase</th>\n",
       "      <th>Sentiment</th>\n",
       "    </tr>\n",
       "  </thead>\n",
       "  <tbody>\n",
       "    <tr>\n",
       "      <th>0</th>\n",
       "      <td>1</td>\n",
       "      <td>1</td>\n",
       "      <td>A series of escapades demonstrating the adage ...</td>\n",
       "      <td>1</td>\n",
       "    </tr>\n",
       "    <tr>\n",
       "      <th>1</th>\n",
       "      <td>2</td>\n",
       "      <td>1</td>\n",
       "      <td>A series of escapades demonstrating the adage ...</td>\n",
       "      <td>2</td>\n",
       "    </tr>\n",
       "    <tr>\n",
       "      <th>2</th>\n",
       "      <td>3</td>\n",
       "      <td>1</td>\n",
       "      <td>A series</td>\n",
       "      <td>2</td>\n",
       "    </tr>\n",
       "    <tr>\n",
       "      <th>3</th>\n",
       "      <td>4</td>\n",
       "      <td>1</td>\n",
       "      <td>A</td>\n",
       "      <td>2</td>\n",
       "    </tr>\n",
       "    <tr>\n",
       "      <th>4</th>\n",
       "      <td>5</td>\n",
       "      <td>1</td>\n",
       "      <td>series</td>\n",
       "      <td>2</td>\n",
       "    </tr>\n",
       "    <tr>\n",
       "      <th>...</th>\n",
       "      <td>...</td>\n",
       "      <td>...</td>\n",
       "      <td>...</td>\n",
       "      <td>...</td>\n",
       "    </tr>\n",
       "    <tr>\n",
       "      <th>156055</th>\n",
       "      <td>156056</td>\n",
       "      <td>8544</td>\n",
       "      <td>Hearst 's</td>\n",
       "      <td>2</td>\n",
       "    </tr>\n",
       "    <tr>\n",
       "      <th>156056</th>\n",
       "      <td>156057</td>\n",
       "      <td>8544</td>\n",
       "      <td>forced avuncular chortles</td>\n",
       "      <td>1</td>\n",
       "    </tr>\n",
       "    <tr>\n",
       "      <th>156057</th>\n",
       "      <td>156058</td>\n",
       "      <td>8544</td>\n",
       "      <td>avuncular chortles</td>\n",
       "      <td>3</td>\n",
       "    </tr>\n",
       "    <tr>\n",
       "      <th>156058</th>\n",
       "      <td>156059</td>\n",
       "      <td>8544</td>\n",
       "      <td>avuncular</td>\n",
       "      <td>2</td>\n",
       "    </tr>\n",
       "    <tr>\n",
       "      <th>156059</th>\n",
       "      <td>156060</td>\n",
       "      <td>8544</td>\n",
       "      <td>chortles</td>\n",
       "      <td>2</td>\n",
       "    </tr>\n",
       "  </tbody>\n",
       "</table>\n",
       "<p>156060 rows × 4 columns</p>\n",
       "</div>\n",
       "      <button class=\"colab-df-convert\" onclick=\"convertToInteractive('df-9bc7aee8-8664-45ea-9d15-0f96bd5be392')\"\n",
       "              title=\"Convert this dataframe to an interactive table.\"\n",
       "              style=\"display:none;\">\n",
       "        \n",
       "  <svg xmlns=\"http://www.w3.org/2000/svg\" height=\"24px\"viewBox=\"0 0 24 24\"\n",
       "       width=\"24px\">\n",
       "    <path d=\"M0 0h24v24H0V0z\" fill=\"none\"/>\n",
       "    <path d=\"M18.56 5.44l.94 2.06.94-2.06 2.06-.94-2.06-.94-.94-2.06-.94 2.06-2.06.94zm-11 1L8.5 8.5l.94-2.06 2.06-.94-2.06-.94L8.5 2.5l-.94 2.06-2.06.94zm10 10l.94 2.06.94-2.06 2.06-.94-2.06-.94-.94-2.06-.94 2.06-2.06.94z\"/><path d=\"M17.41 7.96l-1.37-1.37c-.4-.4-.92-.59-1.43-.59-.52 0-1.04.2-1.43.59L10.3 9.45l-7.72 7.72c-.78.78-.78 2.05 0 2.83L4 21.41c.39.39.9.59 1.41.59.51 0 1.02-.2 1.41-.59l7.78-7.78 2.81-2.81c.8-.78.8-2.07 0-2.86zM5.41 20L4 18.59l7.72-7.72 1.47 1.35L5.41 20z\"/>\n",
       "  </svg>\n",
       "      </button>\n",
       "      \n",
       "  <style>\n",
       "    .colab-df-container {\n",
       "      display:flex;\n",
       "      flex-wrap:wrap;\n",
       "      gap: 12px;\n",
       "    }\n",
       "\n",
       "    .colab-df-convert {\n",
       "      background-color: #E8F0FE;\n",
       "      border: none;\n",
       "      border-radius: 50%;\n",
       "      cursor: pointer;\n",
       "      display: none;\n",
       "      fill: #1967D2;\n",
       "      height: 32px;\n",
       "      padding: 0 0 0 0;\n",
       "      width: 32px;\n",
       "    }\n",
       "\n",
       "    .colab-df-convert:hover {\n",
       "      background-color: #E2EBFA;\n",
       "      box-shadow: 0px 1px 2px rgba(60, 64, 67, 0.3), 0px 1px 3px 1px rgba(60, 64, 67, 0.15);\n",
       "      fill: #174EA6;\n",
       "    }\n",
       "\n",
       "    [theme=dark] .colab-df-convert {\n",
       "      background-color: #3B4455;\n",
       "      fill: #D2E3FC;\n",
       "    }\n",
       "\n",
       "    [theme=dark] .colab-df-convert:hover {\n",
       "      background-color: #434B5C;\n",
       "      box-shadow: 0px 1px 3px 1px rgba(0, 0, 0, 0.15);\n",
       "      filter: drop-shadow(0px 1px 2px rgba(0, 0, 0, 0.3));\n",
       "      fill: #FFFFFF;\n",
       "    }\n",
       "  </style>\n",
       "\n",
       "      <script>\n",
       "        const buttonEl =\n",
       "          document.querySelector('#df-9bc7aee8-8664-45ea-9d15-0f96bd5be392 button.colab-df-convert');\n",
       "        buttonEl.style.display =\n",
       "          google.colab.kernel.accessAllowed ? 'block' : 'none';\n",
       "\n",
       "        async function convertToInteractive(key) {\n",
       "          const element = document.querySelector('#df-9bc7aee8-8664-45ea-9d15-0f96bd5be392');\n",
       "          const dataTable =\n",
       "            await google.colab.kernel.invokeFunction('convertToInteractive',\n",
       "                                                     [key], {});\n",
       "          if (!dataTable) return;\n",
       "\n",
       "          const docLinkHtml = 'Like what you see? Visit the ' +\n",
       "            '<a target=\"_blank\" href=https://colab.research.google.com/notebooks/data_table.ipynb>data table notebook</a>'\n",
       "            + ' to learn more about interactive tables.';\n",
       "          element.innerHTML = '';\n",
       "          dataTable['output_type'] = 'display_data';\n",
       "          await google.colab.output.renderOutput(dataTable, element);\n",
       "          const docLink = document.createElement('div');\n",
       "          docLink.innerHTML = docLinkHtml;\n",
       "          element.appendChild(docLink);\n",
       "        }\n",
       "      </script>\n",
       "    </div>\n",
       "  </div>\n",
       "  "
      ],
      "text/plain": [
       "        PhraseId  SentenceId  \\\n",
       "0              1           1   \n",
       "1              2           1   \n",
       "2              3           1   \n",
       "3              4           1   \n",
       "4              5           1   \n",
       "...          ...         ...   \n",
       "156055    156056        8544   \n",
       "156056    156057        8544   \n",
       "156057    156058        8544   \n",
       "156058    156059        8544   \n",
       "156059    156060        8544   \n",
       "\n",
       "                                                   Phrase  Sentiment  \n",
       "0       A series of escapades demonstrating the adage ...          1  \n",
       "1       A series of escapades demonstrating the adage ...          2  \n",
       "2                                                A series          2  \n",
       "3                                                       A          2  \n",
       "4                                                  series          2  \n",
       "...                                                   ...        ...  \n",
       "156055                                          Hearst 's          2  \n",
       "156056                          forced avuncular chortles          1  \n",
       "156057                                 avuncular chortles          3  \n",
       "156058                                          avuncular          2  \n",
       "156059                                           chortles          2  \n",
       "\n",
       "[156060 rows x 4 columns]"
      ]
     },
     "execution_count": 31,
     "metadata": {},
     "output_type": "execute_result"
    }
   ],
   "source": [
    "raw_df"
   ]
  },
  {
   "cell_type": "markdown",
   "metadata": {
    "id": "TwLM4r3EetEK"
   },
   "source": [
    "## Train Baseline Model & Submit to Kaggle\n",
    "\n",
    "1. Split training and validation sets\n",
    "2. Train logistic regression model\n",
    "3. Study predictions on sample phrases\n",
    "4. Make predictions and submit to Kaggle\n",
    "\n",
    "\n"
   ]
  },
  {
   "cell_type": "markdown",
   "metadata": {
    "id": "NAZkydfs4wrX"
   },
   "source": [
    "### Split Training and Validation Sets\n",
    "\n",
    "Tip: Don't use a random sample for validation set (why?)"
   ]
  },
  {
   "cell_type": "code",
   "execution_count": 32,
   "metadata": {
    "executionInfo": {
     "elapsed": 515,
     "status": "ok",
     "timestamp": 1669337162486,
     "user": {
      "displayName": "Laurent Cabrel Tabueu Fotso",
      "userId": "03330808069489833311"
     },
     "user_tz": -60
    },
    "id": "_9wZLI9i4rlB"
   },
   "outputs": [],
   "source": [
    "TRAIN_SIZE = 110_000"
   ]
  },
  {
   "cell_type": "code",
   "execution_count": 33,
   "metadata": {
    "executionInfo": {
     "elapsed": 20,
     "status": "ok",
     "timestamp": 1669337163064,
     "user": {
      "displayName": "Laurent Cabrel Tabueu Fotso",
      "userId": "03330808069489833311"
     },
     "user_tz": -60
    },
    "id": "FnALsBHr4aQt"
   },
   "outputs": [],
   "source": [
    "train_inputs = inputs[:TRAIN_SIZE]\n",
    "train_targets = raw_df.Sentiment[:TRAIN_SIZE]"
   ]
  },
  {
   "cell_type": "code",
   "execution_count": 34,
   "metadata": {
    "colab": {
     "base_uri": "https://localhost:8080/"
    },
    "executionInfo": {
     "elapsed": 17,
     "status": "ok",
     "timestamp": 1669337163065,
     "user": {
      "displayName": "Laurent Cabrel Tabueu Fotso",
      "userId": "03330808069489833311"
     },
     "user_tz": -60
    },
    "id": "EF8dHyrF4S3R",
    "outputId": "2518eea5-6d3e-43fc-ffaf-a2ee08db1b18"
   },
   "outputs": [
    {
     "data": {
      "text/plain": [
       "((110000, 2000), (110000,))"
      ]
     },
     "execution_count": 34,
     "metadata": {},
     "output_type": "execute_result"
    }
   ],
   "source": [
    "train_inputs.shape, train_targets.shape"
   ]
  },
  {
   "cell_type": "code",
   "execution_count": 35,
   "metadata": {
    "executionInfo": {
     "elapsed": 12,
     "status": "ok",
     "timestamp": 1669337163066,
     "user": {
      "displayName": "Laurent Cabrel Tabueu Fotso",
      "userId": "03330808069489833311"
     },
     "user_tz": -60
    },
    "id": "JXg0N5Tset2n"
   },
   "outputs": [],
   "source": [
    "val_inputs = inputs[TRAIN_SIZE:]\n",
    "val_targets = raw_df.Sentiment[TRAIN_SIZE:]"
   ]
  },
  {
   "cell_type": "code",
   "execution_count": 36,
   "metadata": {
    "colab": {
     "base_uri": "https://localhost:8080/"
    },
    "executionInfo": {
     "elapsed": 11,
     "status": "ok",
     "timestamp": 1669337163068,
     "user": {
      "displayName": "Laurent Cabrel Tabueu Fotso",
      "userId": "03330808069489833311"
     },
     "user_tz": -60
    },
    "id": "5-VO-Ad25CUt",
    "outputId": "e0dcf273-2b9e-483d-be18-0eb69acf0a89"
   },
   "outputs": [
    {
     "data": {
      "text/plain": [
       "((46060, 2000), (46060,))"
      ]
     },
     "execution_count": 36,
     "metadata": {},
     "output_type": "execute_result"
    }
   ],
   "source": [
    "val_inputs.shape, val_targets.shape"
   ]
  },
  {
   "cell_type": "markdown",
   "metadata": {
    "id": "DHoTrGTM5Bo9"
   },
   "source": [
    "### Train Logistic Regression Model\n",
    "\n"
   ]
  },
  {
   "cell_type": "code",
   "execution_count": 37,
   "metadata": {
    "executionInfo": {
     "elapsed": 26,
     "status": "ok",
     "timestamp": 1669337171269,
     "user": {
      "displayName": "Laurent Cabrel Tabueu Fotso",
      "userId": "03330808069489833311"
     },
     "user_tz": -60
    },
    "id": "jEHCuRAt7swN"
   },
   "outputs": [],
   "source": [
    "from sklearn.linear_model import LogisticRegression"
   ]
  },
  {
   "cell_type": "code",
   "execution_count": 38,
   "metadata": {
    "executionInfo": {
     "elapsed": 21,
     "status": "ok",
     "timestamp": 1669337171273,
     "user": {
      "displayName": "Laurent Cabrel Tabueu Fotso",
      "userId": "03330808069489833311"
     },
     "user_tz": -60
    },
    "id": "7klXZoh-7st2"
   },
   "outputs": [],
   "source": [
    "model = LogisticRegression()"
   ]
  },
  {
   "cell_type": "code",
   "execution_count": 39,
   "metadata": {
    "colab": {
     "base_uri": "https://localhost:8080/"
    },
    "executionInfo": {
     "elapsed": 8496,
     "status": "ok",
     "timestamp": 1669337179753,
     "user": {
      "displayName": "Laurent Cabrel Tabueu Fotso",
      "userId": "03330808069489833311"
     },
     "user_tz": -60
    },
    "id": "THyNzV9J7srO",
    "outputId": "9b8fdbfe-2810-4dac-e00d-0f171b47b977"
   },
   "outputs": [
    {
     "name": "stderr",
     "output_type": "stream",
     "text": [
      "/usr/local/lib/python3.7/dist-packages/sklearn/linear_model/_logistic.py:818: ConvergenceWarning: lbfgs failed to converge (status=1):\n",
      "STOP: TOTAL NO. of ITERATIONS REACHED LIMIT.\n",
      "\n",
      "Increase the number of iterations (max_iter) or scale the data as shown in:\n",
      "    https://scikit-learn.org/stable/modules/preprocessing.html\n",
      "Please also refer to the documentation for alternative solver options:\n",
      "    https://scikit-learn.org/stable/modules/linear_model.html#logistic-regression\n",
      "  extra_warning_msg=_LOGISTIC_SOLVER_CONVERGENCE_MSG,\n"
     ]
    },
    {
     "data": {
      "text/plain": [
       "LogisticRegression()"
      ]
     },
     "execution_count": 39,
     "metadata": {},
     "output_type": "execute_result"
    }
   ],
   "source": [
    "model.fit(train_inputs,train_targets)"
   ]
  },
  {
   "cell_type": "code",
   "execution_count": 40,
   "metadata": {
    "executionInfo": {
     "elapsed": 44,
     "status": "ok",
     "timestamp": 1669337179756,
     "user": {
      "displayName": "Laurent Cabrel Tabueu Fotso",
      "userId": "03330808069489833311"
     },
     "user_tz": -60
    },
    "id": "qQ0HAnwP8k1S"
   },
   "outputs": [],
   "source": [
    "train_preds = model.predict(train_inputs)"
   ]
  },
  {
   "cell_type": "code",
   "execution_count": 41,
   "metadata": {
    "colab": {
     "base_uri": "https://localhost:8080/"
    },
    "executionInfo": {
     "elapsed": 38,
     "status": "ok",
     "timestamp": 1669337179757,
     "user": {
      "displayName": "Laurent Cabrel Tabueu Fotso",
      "userId": "03330808069489833311"
     },
     "user_tz": -60
    },
    "id": "TFXjhxfS70Ny",
    "outputId": "cb46240f-c0a1-42bc-faa0-fdb233416284"
   },
   "outputs": [
    {
     "data": {
      "text/plain": [
       "array([3, 2, 2, ..., 0, 0, 2])"
      ]
     },
     "execution_count": 41,
     "metadata": {},
     "output_type": "execute_result"
    }
   ],
   "source": [
    "train_preds"
   ]
  },
  {
   "cell_type": "code",
   "execution_count": 42,
   "metadata": {
    "executionInfo": {
     "elapsed": 33,
     "status": "ok",
     "timestamp": 1669337179758,
     "user": {
      "displayName": "Laurent Cabrel Tabueu Fotso",
      "userId": "03330808069489833311"
     },
     "user_tz": -60
    },
    "id": "lT_-tby27so2"
   },
   "outputs": [],
   "source": [
    "from sklearn.metrics import accuracy_score"
   ]
  },
  {
   "cell_type": "code",
   "execution_count": 43,
   "metadata": {
    "colab": {
     "base_uri": "https://localhost:8080/"
    },
    "executionInfo": {
     "elapsed": 33,
     "status": "ok",
     "timestamp": 1669337179760,
     "user": {
      "displayName": "Laurent Cabrel Tabueu Fotso",
      "userId": "03330808069489833311"
     },
     "user_tz": -60
    },
    "id": "7dqeSWy1tnpi",
    "outputId": "da6b31c4-e059-4e32-c200-3a51ccdba3bb"
   },
   "outputs": [
    {
     "data": {
      "text/plain": [
       "0.6381818181818182"
      ]
     },
     "execution_count": 43,
     "metadata": {},
     "output_type": "execute_result"
    }
   ],
   "source": [
    "accuracy_score(train_targets,train_preds)"
   ]
  },
  {
   "cell_type": "code",
   "execution_count": 44,
   "metadata": {
    "executionInfo": {
     "elapsed": 26,
     "status": "ok",
     "timestamp": 1669337179761,
     "user": {
      "displayName": "Laurent Cabrel Tabueu Fotso",
      "userId": "03330808069489833311"
     },
     "user_tz": -60
    },
    "id": "aLQZFfqvtpXt"
   },
   "outputs": [],
   "source": [
    "val_preds = model.predict(val_inputs)"
   ]
  },
  {
   "cell_type": "code",
   "execution_count": 45,
   "metadata": {
    "colab": {
     "base_uri": "https://localhost:8080/"
    },
    "executionInfo": {
     "elapsed": 26,
     "status": "ok",
     "timestamp": 1669337179762,
     "user": {
      "displayName": "Laurent Cabrel Tabueu Fotso",
      "userId": "03330808069489833311"
     },
     "user_tz": -60
    },
    "id": "TczP3GeYtpRv",
    "outputId": "836c9112-5660-4d70-e483-f43de265d15c"
   },
   "outputs": [
    {
     "data": {
      "text/plain": [
       "0.5795049934867564"
      ]
     },
     "execution_count": 45,
     "metadata": {},
     "output_type": "execute_result"
    }
   ],
   "source": [
    "accuracy_score(val_targets,val_preds)"
   ]
  },
  {
   "cell_type": "markdown",
   "metadata": {
    "id": "RS2HgpkL_J0G"
   },
   "source": [
    "### Study Predictions on Sample Inputs"
   ]
  },
  {
   "cell_type": "code",
   "execution_count": 46,
   "metadata": {
    "executionInfo": {
     "elapsed": 565,
     "status": "ok",
     "timestamp": 1669337185000,
     "user": {
      "displayName": "Laurent Cabrel Tabueu Fotso",
      "userId": "03330808069489833311"
     },
     "user_tz": -60
    },
    "id": "Kvb-G3EU-3sD"
   },
   "outputs": [],
   "source": [
    "small_df = raw_df.sample(20)"
   ]
  },
  {
   "cell_type": "code",
   "execution_count": 47,
   "metadata": {
    "colab": {
     "base_uri": "https://localhost:8080/",
     "height": 1000
    },
    "executionInfo": {
     "elapsed": 20,
     "status": "ok",
     "timestamp": 1669337185693,
     "user": {
      "displayName": "Laurent Cabrel Tabueu Fotso",
      "userId": "03330808069489833311"
     },
     "user_tz": -60
    },
    "id": "96pSFU6Q-3m_",
    "outputId": "c06ec143-86dc-41ad-feb8-29efb78d7c4b"
   },
   "outputs": [
    {
     "data": {
      "text/html": [
       "\n",
       "  <div id=\"df-8db9ab71-1435-4d10-ac4e-70915a9278a2\">\n",
       "    <div class=\"colab-df-container\">\n",
       "      <div>\n",
       "<style scoped>\n",
       "    .dataframe tbody tr th:only-of-type {\n",
       "        vertical-align: middle;\n",
       "    }\n",
       "\n",
       "    .dataframe tbody tr th {\n",
       "        vertical-align: top;\n",
       "    }\n",
       "\n",
       "    .dataframe thead th {\n",
       "        text-align: right;\n",
       "    }\n",
       "</style>\n",
       "<table border=\"1\" class=\"dataframe\">\n",
       "  <thead>\n",
       "    <tr style=\"text-align: right;\">\n",
       "      <th></th>\n",
       "      <th>PhraseId</th>\n",
       "      <th>SentenceId</th>\n",
       "      <th>Phrase</th>\n",
       "      <th>Sentiment</th>\n",
       "    </tr>\n",
       "  </thead>\n",
       "  <tbody>\n",
       "    <tr>\n",
       "      <th>77182</th>\n",
       "      <td>77183</td>\n",
       "      <td>3970</td>\n",
       "      <td>some glimpses</td>\n",
       "      <td>2</td>\n",
       "    </tr>\n",
       "    <tr>\n",
       "      <th>34982</th>\n",
       "      <td>34983</td>\n",
       "      <td>1646</td>\n",
       "      <td>Most of the problems with the film</td>\n",
       "      <td>1</td>\n",
       "    </tr>\n",
       "    <tr>\n",
       "      <th>103612</th>\n",
       "      <td>103613</td>\n",
       "      <td>5464</td>\n",
       "      <td>-- maybe too much</td>\n",
       "      <td>1</td>\n",
       "    </tr>\n",
       "    <tr>\n",
       "      <th>92412</th>\n",
       "      <td>92413</td>\n",
       "      <td>4812</td>\n",
       "      <td>as pleasantly</td>\n",
       "      <td>3</td>\n",
       "    </tr>\n",
       "    <tr>\n",
       "      <th>60195</th>\n",
       "      <td>60196</td>\n",
       "      <td>3037</td>\n",
       "      <td>the kind they</td>\n",
       "      <td>2</td>\n",
       "    </tr>\n",
       "    <tr>\n",
       "      <th>123104</th>\n",
       "      <td>123105</td>\n",
       "      <td>6607</td>\n",
       "      <td>dorkier</td>\n",
       "      <td>2</td>\n",
       "    </tr>\n",
       "    <tr>\n",
       "      <th>97177</th>\n",
       "      <td>97178</td>\n",
       "      <td>5080</td>\n",
       "      <td>'s also nice to see a movie with its heart so ...</td>\n",
       "      <td>3</td>\n",
       "    </tr>\n",
       "    <tr>\n",
       "      <th>38583</th>\n",
       "      <td>38584</td>\n",
       "      <td>1838</td>\n",
       "      <td>ethical issues</td>\n",
       "      <td>2</td>\n",
       "    </tr>\n",
       "    <tr>\n",
       "      <th>142505</th>\n",
       "      <td>142506</td>\n",
       "      <td>7735</td>\n",
       "      <td>it is also a work of deft and subtle poetry</td>\n",
       "      <td>2</td>\n",
       "    </tr>\n",
       "    <tr>\n",
       "      <th>46379</th>\n",
       "      <td>46380</td>\n",
       "      <td>2255</td>\n",
       "      <td>could have been a confusing and horrifying vis...</td>\n",
       "      <td>1</td>\n",
       "    </tr>\n",
       "    <tr>\n",
       "      <th>130920</th>\n",
       "      <td>130921</td>\n",
       "      <td>7056</td>\n",
       "      <td>the contrivances and overwrought emotion</td>\n",
       "      <td>1</td>\n",
       "    </tr>\n",
       "    <tr>\n",
       "      <th>64356</th>\n",
       "      <td>64357</td>\n",
       "      <td>3258</td>\n",
       "      <td>comedy and heartbreaking</td>\n",
       "      <td>2</td>\n",
       "    </tr>\n",
       "    <tr>\n",
       "      <th>7678</th>\n",
       "      <td>7679</td>\n",
       "      <td>310</td>\n",
       "      <td>what passes for sex in the movies look like ch...</td>\n",
       "      <td>1</td>\n",
       "    </tr>\n",
       "    <tr>\n",
       "      <th>4209</th>\n",
       "      <td>4210</td>\n",
       "      <td>159</td>\n",
       "      <td>tryingly</td>\n",
       "      <td>2</td>\n",
       "    </tr>\n",
       "    <tr>\n",
       "      <th>65388</th>\n",
       "      <td>65389</td>\n",
       "      <td>3311</td>\n",
       "      <td>make Green Dragon seem more like medicine than...</td>\n",
       "      <td>1</td>\n",
       "    </tr>\n",
       "    <tr>\n",
       "      <th>148825</th>\n",
       "      <td>148826</td>\n",
       "      <td>8096</td>\n",
       "      <td>obligation</td>\n",
       "      <td>2</td>\n",
       "    </tr>\n",
       "    <tr>\n",
       "      <th>95607</th>\n",
       "      <td>95608</td>\n",
       "      <td>4993</td>\n",
       "      <td>Its weighty themes are too grave for youngsters ,</td>\n",
       "      <td>1</td>\n",
       "    </tr>\n",
       "    <tr>\n",
       "      <th>131848</th>\n",
       "      <td>131849</td>\n",
       "      <td>7108</td>\n",
       "      <td>flibbertigibbet</td>\n",
       "      <td>2</td>\n",
       "    </tr>\n",
       "    <tr>\n",
       "      <th>143107</th>\n",
       "      <td>143108</td>\n",
       "      <td>7768</td>\n",
       "      <td>modernizes A.E.W. Mason 's story to suit the s...</td>\n",
       "      <td>3</td>\n",
       "    </tr>\n",
       "    <tr>\n",
       "      <th>50777</th>\n",
       "      <td>50778</td>\n",
       "      <td>2498</td>\n",
       "      <td>'s no denying the potency of Miller 's strange...</td>\n",
       "      <td>3</td>\n",
       "    </tr>\n",
       "  </tbody>\n",
       "</table>\n",
       "</div>\n",
       "      <button class=\"colab-df-convert\" onclick=\"convertToInteractive('df-8db9ab71-1435-4d10-ac4e-70915a9278a2')\"\n",
       "              title=\"Convert this dataframe to an interactive table.\"\n",
       "              style=\"display:none;\">\n",
       "        \n",
       "  <svg xmlns=\"http://www.w3.org/2000/svg\" height=\"24px\"viewBox=\"0 0 24 24\"\n",
       "       width=\"24px\">\n",
       "    <path d=\"M0 0h24v24H0V0z\" fill=\"none\"/>\n",
       "    <path d=\"M18.56 5.44l.94 2.06.94-2.06 2.06-.94-2.06-.94-.94-2.06-.94 2.06-2.06.94zm-11 1L8.5 8.5l.94-2.06 2.06-.94-2.06-.94L8.5 2.5l-.94 2.06-2.06.94zm10 10l.94 2.06.94-2.06 2.06-.94-2.06-.94-.94-2.06-.94 2.06-2.06.94z\"/><path d=\"M17.41 7.96l-1.37-1.37c-.4-.4-.92-.59-1.43-.59-.52 0-1.04.2-1.43.59L10.3 9.45l-7.72 7.72c-.78.78-.78 2.05 0 2.83L4 21.41c.39.39.9.59 1.41.59.51 0 1.02-.2 1.41-.59l7.78-7.78 2.81-2.81c.8-.78.8-2.07 0-2.86zM5.41 20L4 18.59l7.72-7.72 1.47 1.35L5.41 20z\"/>\n",
       "  </svg>\n",
       "      </button>\n",
       "      \n",
       "  <style>\n",
       "    .colab-df-container {\n",
       "      display:flex;\n",
       "      flex-wrap:wrap;\n",
       "      gap: 12px;\n",
       "    }\n",
       "\n",
       "    .colab-df-convert {\n",
       "      background-color: #E8F0FE;\n",
       "      border: none;\n",
       "      border-radius: 50%;\n",
       "      cursor: pointer;\n",
       "      display: none;\n",
       "      fill: #1967D2;\n",
       "      height: 32px;\n",
       "      padding: 0 0 0 0;\n",
       "      width: 32px;\n",
       "    }\n",
       "\n",
       "    .colab-df-convert:hover {\n",
       "      background-color: #E2EBFA;\n",
       "      box-shadow: 0px 1px 2px rgba(60, 64, 67, 0.3), 0px 1px 3px 1px rgba(60, 64, 67, 0.15);\n",
       "      fill: #174EA6;\n",
       "    }\n",
       "\n",
       "    [theme=dark] .colab-df-convert {\n",
       "      background-color: #3B4455;\n",
       "      fill: #D2E3FC;\n",
       "    }\n",
       "\n",
       "    [theme=dark] .colab-df-convert:hover {\n",
       "      background-color: #434B5C;\n",
       "      box-shadow: 0px 1px 3px 1px rgba(0, 0, 0, 0.15);\n",
       "      filter: drop-shadow(0px 1px 2px rgba(0, 0, 0, 0.3));\n",
       "      fill: #FFFFFF;\n",
       "    }\n",
       "  </style>\n",
       "\n",
       "      <script>\n",
       "        const buttonEl =\n",
       "          document.querySelector('#df-8db9ab71-1435-4d10-ac4e-70915a9278a2 button.colab-df-convert');\n",
       "        buttonEl.style.display =\n",
       "          google.colab.kernel.accessAllowed ? 'block' : 'none';\n",
       "\n",
       "        async function convertToInteractive(key) {\n",
       "          const element = document.querySelector('#df-8db9ab71-1435-4d10-ac4e-70915a9278a2');\n",
       "          const dataTable =\n",
       "            await google.colab.kernel.invokeFunction('convertToInteractive',\n",
       "                                                     [key], {});\n",
       "          if (!dataTable) return;\n",
       "\n",
       "          const docLinkHtml = 'Like what you see? Visit the ' +\n",
       "            '<a target=\"_blank\" href=https://colab.research.google.com/notebooks/data_table.ipynb>data table notebook</a>'\n",
       "            + ' to learn more about interactive tables.';\n",
       "          element.innerHTML = '';\n",
       "          dataTable['output_type'] = 'display_data';\n",
       "          await google.colab.output.renderOutput(dataTable, element);\n",
       "          const docLink = document.createElement('div');\n",
       "          docLink.innerHTML = docLinkHtml;\n",
       "          element.appendChild(docLink);\n",
       "        }\n",
       "      </script>\n",
       "    </div>\n",
       "  </div>\n",
       "  "
      ],
      "text/plain": [
       "        PhraseId  SentenceId  \\\n",
       "77182      77183        3970   \n",
       "34982      34983        1646   \n",
       "103612    103613        5464   \n",
       "92412      92413        4812   \n",
       "60195      60196        3037   \n",
       "123104    123105        6607   \n",
       "97177      97178        5080   \n",
       "38583      38584        1838   \n",
       "142505    142506        7735   \n",
       "46379      46380        2255   \n",
       "130920    130921        7056   \n",
       "64356      64357        3258   \n",
       "7678        7679         310   \n",
       "4209        4210         159   \n",
       "65388      65389        3311   \n",
       "148825    148826        8096   \n",
       "95607      95608        4993   \n",
       "131848    131849        7108   \n",
       "143107    143108        7768   \n",
       "50777      50778        2498   \n",
       "\n",
       "                                                   Phrase  Sentiment  \n",
       "77182                                       some glimpses          2  \n",
       "34982                  Most of the problems with the film          1  \n",
       "103612                                  -- maybe too much          1  \n",
       "92412                                       as pleasantly          3  \n",
       "60195                                       the kind they          2  \n",
       "123104                                            dorkier          2  \n",
       "97177   's also nice to see a movie with its heart so ...          3  \n",
       "38583                                      ethical issues          2  \n",
       "142505        it is also a work of deft and subtle poetry          2  \n",
       "46379   could have been a confusing and horrifying vis...          1  \n",
       "130920           the contrivances and overwrought emotion          1  \n",
       "64356                            comedy and heartbreaking          2  \n",
       "7678    what passes for sex in the movies look like ch...          1  \n",
       "4209                                             tryingly          2  \n",
       "65388   make Green Dragon seem more like medicine than...          1  \n",
       "148825                                         obligation          2  \n",
       "95607   Its weighty themes are too grave for youngsters ,          1  \n",
       "131848                                    flibbertigibbet          2  \n",
       "143107  modernizes A.E.W. Mason 's story to suit the s...          3  \n",
       "50777   's no denying the potency of Miller 's strange...          3  "
      ]
     },
     "execution_count": 47,
     "metadata": {},
     "output_type": "execute_result"
    }
   ],
   "source": [
    "small_df"
   ]
  },
  {
   "cell_type": "code",
   "execution_count": 48,
   "metadata": {
    "executionInfo": {
     "elapsed": 18,
     "status": "ok",
     "timestamp": 1669337185695,
     "user": {
      "displayName": "Laurent Cabrel Tabueu Fotso",
      "userId": "03330808069489833311"
     },
     "user_tz": -60
    },
    "id": "FRlyVDpu_ARh"
   },
   "outputs": [],
   "source": [
    "small_inputs = vectorizer.transform(small_df.Phrase)"
   ]
  },
  {
   "cell_type": "code",
   "execution_count": 49,
   "metadata": {
    "colab": {
     "base_uri": "https://localhost:8080/"
    },
    "executionInfo": {
     "elapsed": 18,
     "status": "ok",
     "timestamp": 1669337185696,
     "user": {
      "displayName": "Laurent Cabrel Tabueu Fotso",
      "userId": "03330808069489833311"
     },
     "user_tz": -60
    },
    "id": "SVX3fbskDyGs",
    "outputId": "4502024b-3ce3-49c4-c428-d3ce7a83d990"
   },
   "outputs": [
    {
     "data": {
      "text/plain": [
       "(20, 2000)"
      ]
     },
     "execution_count": 49,
     "metadata": {},
     "output_type": "execute_result"
    }
   ],
   "source": [
    "small_inputs.shape"
   ]
  },
  {
   "cell_type": "code",
   "execution_count": 50,
   "metadata": {
    "executionInfo": {
     "elapsed": 17,
     "status": "ok",
     "timestamp": 1669337185697,
     "user": {
      "displayName": "Laurent Cabrel Tabueu Fotso",
      "userId": "03330808069489833311"
     },
     "user_tz": -60
    },
    "id": "uUgkh-zfD1HI"
   },
   "outputs": [],
   "source": [
    "small_preds = model.predict(small_inputs)"
   ]
  },
  {
   "cell_type": "code",
   "execution_count": 51,
   "metadata": {
    "colab": {
     "base_uri": "https://localhost:8080/"
    },
    "executionInfo": {
     "elapsed": 16,
     "status": "ok",
     "timestamp": 1669337185698,
     "user": {
      "displayName": "Laurent Cabrel Tabueu Fotso",
      "userId": "03330808069489833311"
     },
     "user_tz": -60
    },
    "id": "urtcbsfd_AO0",
    "outputId": "4c73cb3b-9a0c-40db-825e-32b9901c15ee"
   },
   "outputs": [
    {
     "data": {
      "text/plain": [
       "array([2, 1, 2, 3, 2, 2, 3, 2, 3, 3, 1, 2, 2, 2, 2, 2, 2, 2, 2, 2])"
      ]
     },
     "execution_count": 51,
     "metadata": {},
     "output_type": "execute_result"
    }
   ],
   "source": [
    "small_preds"
   ]
  },
  {
   "cell_type": "markdown",
   "metadata": {
    "id": "HkiqfeBneyth"
   },
   "source": [
    "### Make Predictions & Submit to Kaggle\n",
    "\n",
    "1. Make predictions on Test Dataset\n",
    "2. Generate & submit CSV on Kaggle\n",
    "3. Add screenshot of your score \n",
    "\n"
   ]
  },
  {
   "cell_type": "code",
   "execution_count": 52,
   "metadata": {
    "executionInfo": {
     "elapsed": 476,
     "status": "ok",
     "timestamp": 1669337190748,
     "user": {
      "displayName": "Laurent Cabrel Tabueu Fotso",
      "userId": "03330808069489833311"
     },
     "user_tz": -60
    },
    "id": "jz8W9Nnce31g"
   },
   "outputs": [],
   "source": [
    "test_preds = model.predict(test_inputs)"
   ]
  },
  {
   "cell_type": "code",
   "execution_count": 53,
   "metadata": {
    "colab": {
     "base_uri": "https://localhost:8080/"
    },
    "executionInfo": {
     "elapsed": 468,
     "status": "ok",
     "timestamp": 1669337191208,
     "user": {
      "displayName": "Laurent Cabrel Tabueu Fotso",
      "userId": "03330808069489833311"
     },
     "user_tz": -60
    },
    "id": "RHfHJcBae4e3",
    "outputId": "b4ba7a78-90f8-4ee3-da01-a7960c8ac5b8"
   },
   "outputs": [
    {
     "data": {
      "text/plain": [
       "array([3, 3, 2, ..., 2, 2, 1])"
      ]
     },
     "execution_count": 53,
     "metadata": {},
     "output_type": "execute_result"
    }
   ],
   "source": [
    "test_preds"
   ]
  },
  {
   "cell_type": "code",
   "execution_count": 54,
   "metadata": {
    "colab": {
     "base_uri": "https://localhost:8080/",
     "height": 488
    },
    "executionInfo": {
     "elapsed": 22,
     "status": "ok",
     "timestamp": 1669337191209,
     "user": {
      "displayName": "Laurent Cabrel Tabueu Fotso",
      "userId": "03330808069489833311"
     },
     "user_tz": -60
    },
    "id": "JZ1urPNme4bo",
    "outputId": "9bdabfc6-8ddf-4998-c5c3-beeb12a3a2d1"
   },
   "outputs": [
    {
     "data": {
      "text/html": [
       "\n",
       "  <div id=\"df-2a370f1b-1db6-420c-a251-5508579c3a4c\">\n",
       "    <div class=\"colab-df-container\">\n",
       "      <div>\n",
       "<style scoped>\n",
       "    .dataframe tbody tr th:only-of-type {\n",
       "        vertical-align: middle;\n",
       "    }\n",
       "\n",
       "    .dataframe tbody tr th {\n",
       "        vertical-align: top;\n",
       "    }\n",
       "\n",
       "    .dataframe thead th {\n",
       "        text-align: right;\n",
       "    }\n",
       "</style>\n",
       "<table border=\"1\" class=\"dataframe\">\n",
       "  <thead>\n",
       "    <tr style=\"text-align: right;\">\n",
       "      <th></th>\n",
       "      <th>PhraseId</th>\n",
       "      <th>Sentiment</th>\n",
       "    </tr>\n",
       "  </thead>\n",
       "  <tbody>\n",
       "    <tr>\n",
       "      <th>0</th>\n",
       "      <td>156061</td>\n",
       "      <td>2</td>\n",
       "    </tr>\n",
       "    <tr>\n",
       "      <th>1</th>\n",
       "      <td>156062</td>\n",
       "      <td>2</td>\n",
       "    </tr>\n",
       "    <tr>\n",
       "      <th>2</th>\n",
       "      <td>156063</td>\n",
       "      <td>2</td>\n",
       "    </tr>\n",
       "    <tr>\n",
       "      <th>3</th>\n",
       "      <td>156064</td>\n",
       "      <td>2</td>\n",
       "    </tr>\n",
       "    <tr>\n",
       "      <th>4</th>\n",
       "      <td>156065</td>\n",
       "      <td>2</td>\n",
       "    </tr>\n",
       "    <tr>\n",
       "      <th>...</th>\n",
       "      <td>...</td>\n",
       "      <td>...</td>\n",
       "    </tr>\n",
       "    <tr>\n",
       "      <th>66287</th>\n",
       "      <td>222348</td>\n",
       "      <td>2</td>\n",
       "    </tr>\n",
       "    <tr>\n",
       "      <th>66288</th>\n",
       "      <td>222349</td>\n",
       "      <td>2</td>\n",
       "    </tr>\n",
       "    <tr>\n",
       "      <th>66289</th>\n",
       "      <td>222350</td>\n",
       "      <td>2</td>\n",
       "    </tr>\n",
       "    <tr>\n",
       "      <th>66290</th>\n",
       "      <td>222351</td>\n",
       "      <td>2</td>\n",
       "    </tr>\n",
       "    <tr>\n",
       "      <th>66291</th>\n",
       "      <td>222352</td>\n",
       "      <td>2</td>\n",
       "    </tr>\n",
       "  </tbody>\n",
       "</table>\n",
       "<p>66292 rows × 2 columns</p>\n",
       "</div>\n",
       "      <button class=\"colab-df-convert\" onclick=\"convertToInteractive('df-2a370f1b-1db6-420c-a251-5508579c3a4c')\"\n",
       "              title=\"Convert this dataframe to an interactive table.\"\n",
       "              style=\"display:none;\">\n",
       "        \n",
       "  <svg xmlns=\"http://www.w3.org/2000/svg\" height=\"24px\"viewBox=\"0 0 24 24\"\n",
       "       width=\"24px\">\n",
       "    <path d=\"M0 0h24v24H0V0z\" fill=\"none\"/>\n",
       "    <path d=\"M18.56 5.44l.94 2.06.94-2.06 2.06-.94-2.06-.94-.94-2.06-.94 2.06-2.06.94zm-11 1L8.5 8.5l.94-2.06 2.06-.94-2.06-.94L8.5 2.5l-.94 2.06-2.06.94zm10 10l.94 2.06.94-2.06 2.06-.94-2.06-.94-.94-2.06-.94 2.06-2.06.94z\"/><path d=\"M17.41 7.96l-1.37-1.37c-.4-.4-.92-.59-1.43-.59-.52 0-1.04.2-1.43.59L10.3 9.45l-7.72 7.72c-.78.78-.78 2.05 0 2.83L4 21.41c.39.39.9.59 1.41.59.51 0 1.02-.2 1.41-.59l7.78-7.78 2.81-2.81c.8-.78.8-2.07 0-2.86zM5.41 20L4 18.59l7.72-7.72 1.47 1.35L5.41 20z\"/>\n",
       "  </svg>\n",
       "      </button>\n",
       "      \n",
       "  <style>\n",
       "    .colab-df-container {\n",
       "      display:flex;\n",
       "      flex-wrap:wrap;\n",
       "      gap: 12px;\n",
       "    }\n",
       "\n",
       "    .colab-df-convert {\n",
       "      background-color: #E8F0FE;\n",
       "      border: none;\n",
       "      border-radius: 50%;\n",
       "      cursor: pointer;\n",
       "      display: none;\n",
       "      fill: #1967D2;\n",
       "      height: 32px;\n",
       "      padding: 0 0 0 0;\n",
       "      width: 32px;\n",
       "    }\n",
       "\n",
       "    .colab-df-convert:hover {\n",
       "      background-color: #E2EBFA;\n",
       "      box-shadow: 0px 1px 2px rgba(60, 64, 67, 0.3), 0px 1px 3px 1px rgba(60, 64, 67, 0.15);\n",
       "      fill: #174EA6;\n",
       "    }\n",
       "\n",
       "    [theme=dark] .colab-df-convert {\n",
       "      background-color: #3B4455;\n",
       "      fill: #D2E3FC;\n",
       "    }\n",
       "\n",
       "    [theme=dark] .colab-df-convert:hover {\n",
       "      background-color: #434B5C;\n",
       "      box-shadow: 0px 1px 3px 1px rgba(0, 0, 0, 0.15);\n",
       "      filter: drop-shadow(0px 1px 2px rgba(0, 0, 0, 0.3));\n",
       "      fill: #FFFFFF;\n",
       "    }\n",
       "  </style>\n",
       "\n",
       "      <script>\n",
       "        const buttonEl =\n",
       "          document.querySelector('#df-2a370f1b-1db6-420c-a251-5508579c3a4c button.colab-df-convert');\n",
       "        buttonEl.style.display =\n",
       "          google.colab.kernel.accessAllowed ? 'block' : 'none';\n",
       "\n",
       "        async function convertToInteractive(key) {\n",
       "          const element = document.querySelector('#df-2a370f1b-1db6-420c-a251-5508579c3a4c');\n",
       "          const dataTable =\n",
       "            await google.colab.kernel.invokeFunction('convertToInteractive',\n",
       "                                                     [key], {});\n",
       "          if (!dataTable) return;\n",
       "\n",
       "          const docLinkHtml = 'Like what you see? Visit the ' +\n",
       "            '<a target=\"_blank\" href=https://colab.research.google.com/notebooks/data_table.ipynb>data table notebook</a>'\n",
       "            + ' to learn more about interactive tables.';\n",
       "          element.innerHTML = '';\n",
       "          dataTable['output_type'] = 'display_data';\n",
       "          await google.colab.output.renderOutput(dataTable, element);\n",
       "          const docLink = document.createElement('div');\n",
       "          docLink.innerHTML = docLinkHtml;\n",
       "          element.appendChild(docLink);\n",
       "        }\n",
       "      </script>\n",
       "    </div>\n",
       "  </div>\n",
       "  "
      ],
      "text/plain": [
       "       PhraseId  Sentiment\n",
       "0        156061          2\n",
       "1        156062          2\n",
       "2        156063          2\n",
       "3        156064          2\n",
       "4        156065          2\n",
       "...         ...        ...\n",
       "66287    222348          2\n",
       "66288    222349          2\n",
       "66289    222350          2\n",
       "66290    222351          2\n",
       "66291    222352          2\n",
       "\n",
       "[66292 rows x 2 columns]"
      ]
     },
     "execution_count": 54,
     "metadata": {},
     "output_type": "execute_result"
    }
   ],
   "source": [
    "sub_df"
   ]
  },
  {
   "cell_type": "code",
   "execution_count": 55,
   "metadata": {
    "executionInfo": {
     "elapsed": 17,
     "status": "ok",
     "timestamp": 1669337191210,
     "user": {
      "displayName": "Laurent Cabrel Tabueu Fotso",
      "userId": "03330808069489833311"
     },
     "user_tz": -60
    },
    "id": "MHUHTmYxEHcV"
   },
   "outputs": [],
   "source": [
    "sub_df.Sentiment = test_preds"
   ]
  },
  {
   "cell_type": "code",
   "execution_count": 56,
   "metadata": {
    "executionInfo": {
     "elapsed": 17,
     "status": "ok",
     "timestamp": 1669337191211,
     "user": {
      "displayName": "Laurent Cabrel Tabueu Fotso",
      "userId": "03330808069489833311"
     },
     "user_tz": -60
    },
    "id": "HOTojNcWEHZ7"
   },
   "outputs": [],
   "source": [
    "sub_df.to_csv('submission.csv',index=None)"
   ]
  },
  {
   "cell_type": "code",
   "execution_count": 57,
   "metadata": {
    "colab": {
     "base_uri": "https://localhost:8080/"
    },
    "executionInfo": {
     "elapsed": 15,
     "status": "ok",
     "timestamp": 1669337191212,
     "user": {
      "displayName": "Laurent Cabrel Tabueu Fotso",
      "userId": "03330808069489833311"
     },
     "user_tz": -60
    },
    "id": "e0wZkALl0G85",
    "outputId": "48f7a053-8371-4b8f-8bc9-380ef0674d9b"
   },
   "outputs": [
    {
     "name": "stdout",
     "output_type": "stream",
     "text": [
      "PhraseId,Sentiment\n",
      "156061,3\n",
      "156062,3\n",
      "156063,2\n",
      "156064,3\n",
      "156065,2\n",
      "156066,3\n",
      "156067,3\n",
      "156068,2\n",
      "156069,3\n"
     ]
    }
   ],
   "source": [
    "!head submission.csv"
   ]
  },
  {
   "cell_type": "markdown",
   "metadata": {
    "id": "8kne2rQq8qL0"
   },
   "source": [
    "## Train & Finetune Different ML Models\n",
    "\n",
    "Train & finetune at least 2 other types of models\n",
    "\n",
    "Models to try:\n",
    "- Decision Trees\n",
    "- Random Forests\n",
    "- Gradient Boosting\n",
    "- Naive Bayes\n",
    "- SVM\n",
    "\n",
    "Optional: \n",
    "* Use PCA for dimensionality reduction\n",
    "* Compare classification vs regression models\n",
    "\n",
    "\n",
    "Tips: \n",
    "\n",
    "- If using a regression model, make sure to round predictions to integer and clip to the range `[1,5]`\n",
    "- Track your progress in a copy of [this experiment tracking spreadsheet](https://docs.google.com/spreadsheets/d/1X-tifxAOAYeIA2J32hBGP5B0MPnZy_o-zOz1NbS-1Ig/edit?usp=sharing)\n"
   ]
  },
  {
   "cell_type": "markdown",
   "metadata": {
    "id": "oZ6dR-sqXLKQ"
   },
   "source": [
    "### Model 1"
   ]
  },
  {
   "cell_type": "code",
   "execution_count": 58,
   "metadata": {
    "executionInfo": {
     "elapsed": 638,
     "status": "ok",
     "timestamp": 1669337218011,
     "user": {
      "displayName": "Laurent Cabrel Tabueu Fotso",
      "userId": "03330808069489833311"
     },
     "user_tz": -60
    },
    "id": "kN-yZN12e4Yz"
   },
   "outputs": [],
   "source": [
    "from sklearn.naive_bayes import MultinomialNB"
   ]
  },
  {
   "cell_type": "code",
   "execution_count": 59,
   "metadata": {
    "executionInfo": {
     "elapsed": 17,
     "status": "ok",
     "timestamp": 1669337218599,
     "user": {
      "displayName": "Laurent Cabrel Tabueu Fotso",
      "userId": "03330808069489833311"
     },
     "user_tz": -60
    },
    "id": "BABXBtmo34TY"
   },
   "outputs": [],
   "source": [
    "model1 = MultinomialNB(class_prior=(0.05,0.2,0.5,0.2,0.05))"
   ]
  },
  {
   "cell_type": "code",
   "execution_count": 60,
   "metadata": {
    "colab": {
     "base_uri": "https://localhost:8080/"
    },
    "executionInfo": {
     "elapsed": 15,
     "status": "ok",
     "timestamp": 1669337218601,
     "user": {
      "displayName": "Laurent Cabrel Tabueu Fotso",
      "userId": "03330808069489833311"
     },
     "user_tz": -60
    },
    "id": "Vt5vQgbE34Jc",
    "outputId": "ccfe4d15-852d-4768-9c0d-bff3f145b793"
   },
   "outputs": [
    {
     "data": {
      "text/plain": [
       "MultinomialNB(class_prior=(0.05, 0.2, 0.5, 0.2, 0.05))"
      ]
     },
     "execution_count": 60,
     "metadata": {},
     "output_type": "execute_result"
    }
   ],
   "source": [
    "model1.fit(train_inputs ,train_targets)"
   ]
  },
  {
   "cell_type": "code",
   "execution_count": 61,
   "metadata": {
    "colab": {
     "base_uri": "https://localhost:8080/"
    },
    "executionInfo": {
     "elapsed": 14,
     "status": "ok",
     "timestamp": 1669337218603,
     "user": {
      "displayName": "Laurent Cabrel Tabueu Fotso",
      "userId": "03330808069489833311"
     },
     "user_tz": -60
    },
    "id": "X8f6t6wge4WV",
    "outputId": "cb6ca13c-cb42-4da0-98a8-0ea6c1e5153a"
   },
   "outputs": [
    {
     "data": {
      "text/plain": [
       "0.5881636363636363"
      ]
     },
     "execution_count": 61,
     "metadata": {},
     "output_type": "execute_result"
    }
   ],
   "source": [
    "accuracy_score(train_targets,model1.predict(train_inputs))"
   ]
  },
  {
   "cell_type": "code",
   "execution_count": 62,
   "metadata": {
    "colab": {
     "base_uri": "https://localhost:8080/"
    },
    "executionInfo": {
     "elapsed": 13,
     "status": "ok",
     "timestamp": 1669337218605,
     "user": {
      "displayName": "Laurent Cabrel Tabueu Fotso",
      "userId": "03330808069489833311"
     },
     "user_tz": -60
    },
    "id": "lig2PXUCAfqF",
    "outputId": "c5566fcc-1ccd-4b8f-9a13-f417ca6a697a"
   },
   "outputs": [
    {
     "data": {
      "text/plain": [
       "0.5453755970473295"
      ]
     },
     "execution_count": 62,
     "metadata": {},
     "output_type": "execute_result"
    }
   ],
   "source": [
    "accuracy_score(val_targets,model1.predict(val_inputs))"
   ]
  },
  {
   "cell_type": "markdown",
   "metadata": {
    "executionInfo": {
     "elapsed": 2050,
     "status": "ok",
     "timestamp": 1668511836179,
     "user": {
      "displayName": "Aakash N S",
      "userId": "03254185060287524023"
     },
     "user_tz": -330
    },
    "id": "ewoiYmCyAmuZ",
    "outputId": "7a98660c-5c53-4177-9646-377081671071"
   },
   "source": [
    "### Model 2"
   ]
  },
  {
   "cell_type": "code",
   "execution_count": 63,
   "metadata": {
    "executionInfo": {
     "elapsed": 487,
     "status": "ok",
     "timestamp": 1669337221503,
     "user": {
      "displayName": "Laurent Cabrel Tabueu Fotso",
      "userId": "03330808069489833311"
     },
     "user_tz": -60
    },
    "id": "tExMdRaEBu5E"
   },
   "outputs": [],
   "source": [
    "from sklearn import tree"
   ]
  },
  {
   "cell_type": "code",
   "execution_count": 64,
   "metadata": {
    "executionInfo": {
     "elapsed": 14,
     "status": "ok",
     "timestamp": 1669337222018,
     "user": {
      "displayName": "Laurent Cabrel Tabueu Fotso",
      "userId": "03330808069489833311"
     },
     "user_tz": -60
    },
    "id": "kvdfuy_E-vvV"
   },
   "outputs": [],
   "source": [
    "model2 = tree.DecisionTreeClassifier()"
   ]
  },
  {
   "cell_type": "code",
   "execution_count": 65,
   "metadata": {
    "colab": {
     "base_uri": "https://localhost:8080/"
    },
    "executionInfo": {
     "elapsed": 13254,
     "status": "ok",
     "timestamp": 1669337235261,
     "user": {
      "displayName": "Laurent Cabrel Tabueu Fotso",
      "userId": "03330808069489833311"
     },
     "user_tz": -60
    },
    "id": "4BWA9sSrDoxE",
    "outputId": "f2c98fd7-a80c-4880-f598-29cb9c7212cb"
   },
   "outputs": [
    {
     "data": {
      "text/plain": [
       "DecisionTreeClassifier()"
      ]
     },
     "execution_count": 65,
     "metadata": {},
     "output_type": "execute_result"
    }
   ],
   "source": [
    "model2.fit(train_inputs ,train_targets)"
   ]
  },
  {
   "cell_type": "code",
   "execution_count": 66,
   "metadata": {
    "colab": {
     "base_uri": "https://localhost:8080/"
    },
    "executionInfo": {
     "elapsed": 32,
     "status": "ok",
     "timestamp": 1669337235263,
     "user": {
      "displayName": "Laurent Cabrel Tabueu Fotso",
      "userId": "03330808069489833311"
     },
     "user_tz": -60
    },
    "id": "r0fLD_VfFKls",
    "outputId": "f395e84b-b345-4702-ef4e-2715e094d787"
   },
   "outputs": [
    {
     "data": {
      "text/plain": [
       "0.7902727272727272"
      ]
     },
     "execution_count": 66,
     "metadata": {},
     "output_type": "execute_result"
    }
   ],
   "source": [
    "accuracy_score(train_targets,model2.predict(train_inputs))"
   ]
  },
  {
   "cell_type": "code",
   "execution_count": 67,
   "metadata": {
    "colab": {
     "base_uri": "https://localhost:8080/"
    },
    "executionInfo": {
     "elapsed": 22,
     "status": "ok",
     "timestamp": 1669337235265,
     "user": {
      "displayName": "Laurent Cabrel Tabueu Fotso",
      "userId": "03330808069489833311"
     },
     "user_tz": -60
    },
    "id": "Y_ZyA83GFKaw",
    "outputId": "995da7f7-21d6-4d07-9ed2-0847119e12b1"
   },
   "outputs": [
    {
     "data": {
      "text/plain": [
       "0.5289188015631785"
      ]
     },
     "execution_count": 67,
     "metadata": {},
     "output_type": "execute_result"
    }
   ],
   "source": [
    "accuracy_score(val_targets,model2.predict(val_inputs))"
   ]
  },
  {
   "cell_type": "code",
   "execution_count": 68,
   "metadata": {
    "executionInfo": {
     "elapsed": 866,
     "status": "ok",
     "timestamp": 1669337236116,
     "user": {
      "displayName": "Laurent Cabrel Tabueu Fotso",
      "userId": "03330808069489833311"
     },
     "user_tz": -60
    },
    "id": "znMlZOctGrYf"
   },
   "outputs": [],
   "source": [
    "test_preds2 = model2.predict(test_inputs)\n",
    "sub_df.Sentiment = test_preds2\n",
    "sub_df.to_csv('submission2.csv',index=None)\n"
   ]
  },
  {
   "cell_type": "code",
   "execution_count": 69,
   "metadata": {
    "executionInfo": {
     "elapsed": 19,
     "status": "ok",
     "timestamp": 1669337236118,
     "user": {
      "displayName": "Laurent Cabrel Tabueu Fotso",
      "userId": "03330808069489833311"
     },
     "user_tz": -60
    },
    "id": "zfm5eDERGq_F"
   },
   "outputs": [],
   "source": [
    "#Random forest model"
   ]
  },
  {
   "cell_type": "code",
   "execution_count": 70,
   "metadata": {
    "executionInfo": {
     "elapsed": 14,
     "status": "ok",
     "timestamp": 1669337236118,
     "user": {
      "displayName": "Laurent Cabrel Tabueu Fotso",
      "userId": "03330808069489833311"
     },
     "user_tz": -60
    },
    "id": "Ik_tW0DUJuFw"
   },
   "outputs": [],
   "source": [
    "from sklearn.ensemble import RandomForestClassifier"
   ]
  },
  {
   "cell_type": "code",
   "execution_count": 71,
   "metadata": {
    "executionInfo": {
     "elapsed": 13,
     "status": "ok",
     "timestamp": 1669337236120,
     "user": {
      "displayName": "Laurent Cabrel Tabueu Fotso",
      "userId": "03330808069489833311"
     },
     "user_tz": -60
    },
    "id": "BZY_dqBzJt-G"
   },
   "outputs": [],
   "source": [
    "model3 = RandomForestClassifier(n_estimators = 50, \n",
    "                               min_samples_split = 6, \n",
    "                               min_samples_leaf= 4,\n",
    "                               max_features = 'sqrt',\n",
    "                               max_depth= 200, \n",
    "                               bootstrap=False)"
   ]
  },
  {
   "cell_type": "code",
   "execution_count": 72,
   "metadata": {
    "colab": {
     "base_uri": "https://localhost:8080/"
    },
    "executionInfo": {
     "elapsed": 12386,
     "status": "ok",
     "timestamp": 1669337248494,
     "user": {
      "displayName": "Laurent Cabrel Tabueu Fotso",
      "userId": "03330808069489833311"
     },
     "user_tz": -60
    },
    "id": "Re5JQnEmJt6A",
    "outputId": "894b2779-59a7-44c6-b36d-973788168749"
   },
   "outputs": [
    {
     "data": {
      "text/plain": [
       "RandomForestClassifier(bootstrap=False, max_depth=200, max_features='sqrt',\n",
       "                       min_samples_leaf=4, min_samples_split=6,\n",
       "                       n_estimators=50)"
      ]
     },
     "execution_count": 72,
     "metadata": {},
     "output_type": "execute_result"
    }
   ],
   "source": [
    "model3.fit(train_inputs ,train_targets)"
   ]
  },
  {
   "cell_type": "code",
   "execution_count": 73,
   "metadata": {
    "colab": {
     "base_uri": "https://localhost:8080/"
    },
    "executionInfo": {
     "elapsed": 3048,
     "status": "ok",
     "timestamp": 1669337251530,
     "user": {
      "displayName": "Laurent Cabrel Tabueu Fotso",
      "userId": "03330808069489833311"
     },
     "user_tz": -60
    },
    "id": "6-ylxeFfKnTO",
    "outputId": "50928af3-6cf9-4acd-8865-ac4713de88de"
   },
   "outputs": [
    {
     "data": {
      "text/plain": [
       "0.6633818181818182"
      ]
     },
     "execution_count": 73,
     "metadata": {},
     "output_type": "execute_result"
    }
   ],
   "source": [
    "accuracy_score(train_targets,model3.predict(train_inputs))"
   ]
  },
  {
   "cell_type": "code",
   "execution_count": 74,
   "metadata": {
    "colab": {
     "base_uri": "https://localhost:8080/"
    },
    "executionInfo": {
     "elapsed": 1053,
     "status": "ok",
     "timestamp": 1669337252574,
     "user": {
      "displayName": "Laurent Cabrel Tabueu Fotso",
      "userId": "03330808069489833311"
     },
     "user_tz": -60
    },
    "id": "OJfZCAEBKnGw",
    "outputId": "6c4bb969-c2fb-4858-ba2d-f260a4267c6c"
   },
   "outputs": [
    {
     "data": {
      "text/plain": [
       "0.5545158488927486"
      ]
     },
     "execution_count": 74,
     "metadata": {},
     "output_type": "execute_result"
    }
   ],
   "source": [
    "accuracy_score(val_targets,model3.predict(val_inputs))"
   ]
  },
  {
   "cell_type": "code",
   "execution_count": 75,
   "metadata": {
    "executionInfo": {
     "elapsed": 2054,
     "status": "ok",
     "timestamp": 1669337254620,
     "user": {
      "displayName": "Laurent Cabrel Tabueu Fotso",
      "userId": "03330808069489833311"
     },
     "user_tz": -60
    },
    "id": "YltfAjhGQHHK"
   },
   "outputs": [],
   "source": [
    "test_preds3 = model3.predict(test_inputs)\n",
    "sub_df.Sentiment = test_preds3\n",
    "sub_df.to_csv('submission3.csv',index=None)"
   ]
  },
  {
   "cell_type": "markdown",
   "metadata": {
    "executionInfo": {
     "elapsed": 9,
     "status": "ok",
     "timestamp": 1668512360083,
     "user": {
      "displayName": "Aakash N S",
      "userId": "03254185060287524023"
     },
     "user_tz": -330
    },
    "id": "S8WnmO8SDopQ",
    "outputId": "ad27a3ba-b6e9-4675-9b20-0e338f3fcf8d"
   },
   "source": [
    "### Model 3"
   ]
  },
  {
   "cell_type": "code",
   "execution_count": 76,
   "metadata": {
    "executionInfo": {
     "elapsed": 339,
     "status": "ok",
     "timestamp": 1669337264638,
     "user": {
      "displayName": "Laurent Cabrel Tabueu Fotso",
      "userId": "03330808069489833311"
     },
     "user_tz": -60
    },
    "id": "FuRhZQJqDomm"
   },
   "outputs": [],
   "source": [
    "from sklearn.ensemble import GradientBoostingClassifier"
   ]
  },
  {
   "cell_type": "code",
   "execution_count": 77,
   "metadata": {
    "executionInfo": {
     "elapsed": 448,
     "status": "ok",
     "timestamp": 1669337266329,
     "user": {
      "displayName": "Laurent Cabrel Tabueu Fotso",
      "userId": "03330808069489833311"
     },
     "user_tz": -60
    },
    "id": "1FyiLUvLDojw"
   },
   "outputs": [],
   "source": [
    "model4 = GradientBoostingClassifier(n_estimators=100, \n",
    "                                 learning_rate=1.0,\n",
    "                                 max_depth=10, \n",
    "                                 random_state=0)"
   ]
  },
  {
   "cell_type": "code",
   "execution_count": 78,
   "metadata": {
    "colab": {
     "base_uri": "https://localhost:8080/"
    },
    "executionInfo": {
     "elapsed": 165151,
     "status": "ok",
     "timestamp": 1669337433339,
     "user": {
      "displayName": "Laurent Cabrel Tabueu Fotso",
      "userId": "03330808069489833311"
     },
     "user_tz": -60
    },
    "id": "uGvDA1JJFkjF",
    "outputId": "79d0f869-6678-45b3-f818-c235bb6ef43e"
   },
   "outputs": [
    {
     "data": {
      "text/plain": [
       "GradientBoostingClassifier(learning_rate=1.0, max_depth=10, random_state=0)"
      ]
     },
     "execution_count": 78,
     "metadata": {},
     "output_type": "execute_result"
    }
   ],
   "source": [
    "model4.fit(train_inputs ,train_targets)"
   ]
  },
  {
   "cell_type": "code",
   "execution_count": 79,
   "metadata": {
    "colab": {
     "base_uri": "https://localhost:8080/"
    },
    "executionInfo": {
     "elapsed": 4149,
     "status": "ok",
     "timestamp": 1669337438552,
     "user": {
      "displayName": "Laurent Cabrel Tabueu Fotso",
      "userId": "03330808069489833311"
     },
     "user_tz": -60
    },
    "id": "l90XTWj6DohY",
    "outputId": "f607d7d9-20b9-4e63-a2e1-54a08247f9ea"
   },
   "outputs": [
    {
     "data": {
      "text/plain": [
       "0.6532272727272728"
      ]
     },
     "execution_count": 79,
     "metadata": {},
     "output_type": "execute_result"
    }
   ],
   "source": [
    "accuracy_score(train_targets,model4.predict(train_inputs))"
   ]
  },
  {
   "cell_type": "code",
   "execution_count": 80,
   "metadata": {
    "colab": {
     "base_uri": "https://localhost:8080/"
    },
    "executionInfo": {
     "elapsed": 1612,
     "status": "ok",
     "timestamp": 1669337440160,
     "user": {
      "displayName": "Laurent Cabrel Tabueu Fotso",
      "userId": "03330808069489833311"
     },
     "user_tz": -60
    },
    "id": "6fBn8Xu8S1-f",
    "outputId": "8d6d9ac6-7c9c-45d0-a284-bcbc260e006a"
   },
   "outputs": [
    {
     "data": {
      "text/plain": [
       "0.5547329570125923"
      ]
     },
     "execution_count": 80,
     "metadata": {},
     "output_type": "execute_result"
    }
   ],
   "source": [
    "accuracy_score(val_targets,model4.predict(val_inputs))"
   ]
  },
  {
   "cell_type": "code",
   "execution_count": 81,
   "metadata": {
    "executionInfo": {
     "elapsed": 2503,
     "status": "ok",
     "timestamp": 1669337442659,
     "user": {
      "displayName": "Laurent Cabrel Tabueu Fotso",
      "userId": "03330808069489833311"
     },
     "user_tz": -60
    },
    "id": "WtSbbRzSS1wg"
   },
   "outputs": [],
   "source": [
    "test_preds4 = model4.predict(test_inputs)\n",
    "sub_df.Sentiment = test_preds4\n",
    "sub_df.to_csv('submission4.csv',index=None)"
   ]
  },
  {
   "cell_type": "code",
   "execution_count": 82,
   "metadata": {
    "executionInfo": {
     "elapsed": 8,
     "status": "ok",
     "timestamp": 1669337442661,
     "user": {
      "displayName": "Laurent Cabrel Tabueu Fotso",
      "userId": "03330808069489833311"
     },
     "user_tz": -60
    },
    "id": "EjoEiyTcXQbc"
   },
   "outputs": [],
   "source": [
    "#svm model"
   ]
  },
  {
   "cell_type": "code",
   "execution_count": 83,
   "metadata": {
    "executionInfo": {
     "elapsed": 9,
     "status": "ok",
     "timestamp": 1669337442663,
     "user": {
      "displayName": "Laurent Cabrel Tabueu Fotso",
      "userId": "03330808069489833311"
     },
     "user_tz": -60
    },
    "id": "L0Avx3sxXRpj"
   },
   "outputs": [],
   "source": [
    "from sklearn import svm"
   ]
  },
  {
   "cell_type": "code",
   "execution_count": 84,
   "metadata": {
    "executionInfo": {
     "elapsed": 385,
     "status": "ok",
     "timestamp": 1669337448927,
     "user": {
      "displayName": "Laurent Cabrel Tabueu Fotso",
      "userId": "03330808069489833311"
     },
     "user_tz": -60
    },
    "id": "eDA4OK48XRPT"
   },
   "outputs": [],
   "source": [
    "model5 = svm.SVC()"
   ]
  },
  {
   "cell_type": "code",
   "execution_count": 85,
   "metadata": {
    "colab": {
     "base_uri": "https://localhost:8080/"
    },
    "executionInfo": {
     "elapsed": 1566231,
     "status": "ok",
     "timestamp": 1669339017774,
     "user": {
      "displayName": "Laurent Cabrel Tabueu Fotso",
      "userId": "03330808069489833311"
     },
     "user_tz": -60
    },
    "id": "fKZXqNanXsBC",
    "outputId": "a7ba9759-653b-49a0-c536-d0a00b9f4801"
   },
   "outputs": [
    {
     "data": {
      "text/plain": [
       "SVC()"
      ]
     },
     "execution_count": 85,
     "metadata": {},
     "output_type": "execute_result"
    }
   ],
   "source": [
    "model5.fit(train_inputs ,train_targets)"
   ]
  },
  {
   "cell_type": "code",
   "execution_count": 86,
   "metadata": {
    "colab": {
     "base_uri": "https://localhost:8080/"
    },
    "executionInfo": {
     "elapsed": 446481,
     "status": "ok",
     "timestamp": 1669339464246,
     "user": {
      "displayName": "Laurent Cabrel Tabueu Fotso",
      "userId": "03330808069489833311"
     },
     "user_tz": -60
    },
    "id": "gCnMFWELXrzw",
    "outputId": "824205a4-5ec6-4568-fc50-fdd80362aa2f"
   },
   "outputs": [
    {
     "data": {
      "text/plain": [
       "0.7417090909090909"
      ]
     },
     "execution_count": 86,
     "metadata": {},
     "output_type": "execute_result"
    }
   ],
   "source": [
    "accuracy_score(train_targets,model5.predict(train_inputs))"
   ]
  },
  {
   "cell_type": "code",
   "execution_count": 87,
   "metadata": {
    "colab": {
     "base_uri": "https://localhost:8080/"
    },
    "executionInfo": {
     "elapsed": 190229,
     "status": "ok",
     "timestamp": 1669339654464,
     "user": {
      "displayName": "Laurent Cabrel Tabueu Fotso",
      "userId": "03330808069489833311"
     },
     "user_tz": -60
    },
    "id": "EuJGFC4xXre0",
    "outputId": "98dfb10e-c6b8-4db7-f3c4-2834cae41a55"
   },
   "outputs": [
    {
     "data": {
      "text/plain": [
       "0.5775075987841946"
      ]
     },
     "execution_count": 87,
     "metadata": {},
     "output_type": "execute_result"
    }
   ],
   "source": [
    "accuracy_score(val_targets,model5.predict(val_inputs))"
   ]
  },
  {
   "cell_type": "code",
   "execution_count": 88,
   "metadata": {
    "executionInfo": {
     "elapsed": 265312,
     "status": "ok",
     "timestamp": 1669339919768,
     "user": {
      "displayName": "Laurent Cabrel Tabueu Fotso",
      "userId": "03330808069489833311"
     },
     "user_tz": -60
    },
    "id": "IDT1hiZEYDxp"
   },
   "outputs": [],
   "source": [
    "test_preds5 = model5.predict(test_inputs)\n",
    "sub_df.Sentiment = test_preds5\n",
    "sub_df.to_csv('submission5.csv',index=None)"
   ]
  },
  {
   "cell_type": "markdown",
   "metadata": {
    "id": "vSz1qKUvXLKV"
   },
   "source": [
    "Best Model:\n",
    "\n",
    "??? \n",
    "\n",
    "(include Kaggle score screenshot)"
   ]
  },
  {
   "cell_type": "markdown",
   "metadata": {
    "id": "zhVGx0VZe6Gg"
   },
   "source": [
    "## Submission and Future Work\n",
    "\n",
    "\n",
    "How to make a submission:\n",
    "\n",
    "- Add documentation and explanations\n",
    "- Clean up any stray code/comments\n",
    "- Include a screenshot of your best score\n",
    "- Make a submission on the assignment page\n",
    "- Review evaluation criteria carefully\n",
    "\n",
    "\n",
    "Future work:\n",
    "- Try more machine learning models\n",
    "- Try configuring CountVectorizer differently\n",
    "- Try approaches other than bag of words\n"
   ]
  },
  {
   "cell_type": "code",
   "execution_count": null,
   "metadata": {
    "id": "FCQRLgIpXLKX"
   },
   "outputs": [],
   "source": []
  }
 ],
 "metadata": {
  "colab": {
   "provenance": []
  },
  "kernelspec": {
   "display_name": "Python 3 (ipykernel)",
   "language": "python",
   "name": "python3"
  },
  "language_info": {
   "codemirror_mode": {
    "name": "ipython",
    "version": 3
   },
   "file_extension": ".py",
   "mimetype": "text/x-python",
   "name": "python",
   "nbconvert_exporter": "python",
   "pygments_lexer": "ipython3",
   "version": "3.9.6"
  }
 },
 "nbformat": 4,
 "nbformat_minor": 0
}